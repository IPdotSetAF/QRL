{
 "cells": [
  {
   "cell_type": "markdown",
   "id": "4fbfb973",
   "metadata": {},
   "source": [
    "# Deep Q-learning\n",
    "\n",
    "Here I try to implement the Reinforcement Learning technique called Deep Q-learning (or Deep Q-Network, hence DQN) which uses a Neural Network (in our case will be a Parametrized Quantum Circuit) to approximate the Q-values.\n",
    "\n",
    "This is the same technique used in the paper by Skolik. \n",
    "\n",
    "I will mostly copy the code from this great book *Hands on Machine Learning*, which has accompanying free tutorials here:  \n",
    "https://github.com/ageron/handson-ml2"
   ]
  },
  {
   "cell_type": "code",
   "execution_count": null,
   "id": "b7fd45ea",
   "metadata": {},
   "outputs": [],
   "source": []
  },
  {
   "cell_type": "code",
   "execution_count": null,
   "id": "cc223d60",
   "metadata": {},
   "outputs": [],
   "source": []
  }
 ],
 "metadata": {
  "kernelspec": {
   "display_name": "Python 3",
   "language": "python",
   "name": "python3"
  },
  "language_info": {
   "codemirror_mode": {
    "name": "ipython",
    "version": 3
   },
   "file_extension": ".py",
   "mimetype": "text/x-python",
   "name": "python",
   "nbconvert_exporter": "python",
   "pygments_lexer": "ipython3",
   "version": "3.8.8"
  }
 },
 "nbformat": 4,
 "nbformat_minor": 5
}
