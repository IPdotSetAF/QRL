{
 "cells": [
  {
   "cell_type": "markdown",
   "metadata": {},
   "source": [
    "# Deep Q-learning\n",
    "\n",
    "Here I try to implement the Reinforcement Learning technique called Deep Q-learning (or Deep Q-Network, hence DQN) which uses a Neural Network (in our case will be a Parametrized Quantum Circuit) to approximate the Q-values.\n",
    "\n",
    "This is the same technique used in the paper by Skolik. \n",
    "\n",
    "I will mostly copy the code from this great book *Hands on Machine Learning*, which has accompanying free tutorials here:  \n",
    "https://github.com/ageron/handson-ml2"
   ]
  },
  {
   "cell_type": "markdown",
   "metadata": {},
   "source": [
    "#### Import of relevant packages"
   ]
  },
  {
   "cell_type": "code",
   "execution_count": 1,
   "metadata": {},
   "outputs": [],
   "source": [
    "# General imports\n",
    "import numpy as np\n",
    "import matplotlib.pyplot as plt\n",
    "\n",
    "# Qiskit Operator imports\n",
    "from qiskit.aqua.operators import Z, I, StateFn, CircuitStateFn, SummedOp\n",
    "from qiskit.aqua.operators.gradients import Gradient, NaturalGradient, QFI, Hessian\n",
    "\n",
    "# Qiskit Circuit imports\n",
    "from qiskit.circuit import QuantumCircuit, QuantumRegister, Parameter, ParameterVector, ParameterExpression\n",
    "from qiskit.circuit.library import TwoLocal\n",
    "\n",
    "# Qiskit imports\n",
    "import qiskit as qk\n",
    "from qiskit.utils import QuantumInstance\n",
    "\n",
    "# Qiskit Machine Learning imports\n",
    "import qiskit_machine_learning as qkml\n",
    "from qiskit_machine_learning.neural_networks import CircuitQNN\n",
    "from qiskit_machine_learning.connectors import TorchConnector\n",
    "\n",
    "# PyTorch imports\n",
    "import torch\n",
    "from torch import Tensor\n",
    "from torch.nn import MSELoss\n",
    "from torch.optim import LBFGS, SGD, Adam, RMSprop\n",
    "\n",
    "# OpenAI Gym import\n",
    "import gym\n",
    "\n",
    "# Fix seed for reproducibility\n",
    "seed = 42\n",
    "np.random.seed(seed)\n",
    "torch.manual_seed(seed);"
   ]
  },
  {
   "cell_type": "code",
   "execution_count": 2,
   "metadata": {},
   "outputs": [],
   "source": [
    "# To get smooth animations\n",
    "import matplotlib as mpl\n",
    "import matplotlib.animation as animation\n",
    "mpl.rc('animation', html='jshtml')\n",
    "\n",
    "def update_scene(num, frames, patch):\n",
    "    patch.set_data(frames[num])\n",
    "    return patch,\n",
    "\n",
    "def plot_animation(frames, repeat=False, interval=40):\n",
    "    fig = plt.figure()\n",
    "    patch = plt.imshow(frames[0])\n",
    "    plt.axis('off')\n",
    "    anim = animation.FuncAnimation(\n",
    "        fig, update_scene, fargs=(frames, patch),\n",
    "        frames=len(frames), repeat=repeat, interval=interval)\n",
    "    plt.close()\n",
    "    return anim"
   ]
  },
  {
   "cell_type": "markdown",
   "metadata": {},
   "source": [
    "### Definition of the *Parametrized Quantum Circuit* (PQC)  \n",
    "\n",
    "##### `encoding_circuit` & `parametrized_circuit`  \n",
    "\n",
    "1. First, the `encoding circuit`, used to load on the circuit the classical inputs. In our case, the inputs are the state variables of the environment. In the present version, the code is suited for the `Cart-Pole` environment, or other with continuous states.  \n",
    "\n",
    "2. The `parametrized_circuit` function creates the full parametrized quantum circuit, with inputs and weights (trainable parameters) given as Qiskit's `Parameters`. It is possible to choose the number of repetitions (*layers*) in the quantum circuit, as well as wether to use data *reuploading*."
   ]
  },
  {
   "cell_type": "code",
   "execution_count": 3,
   "metadata": {},
   "outputs": [],
   "source": [
    "def encoding_circuit(inputs, num_qubits = 4, gate = 'rx', *args):\n",
    "    \"\"\"\n",
    "    Encode classical input data on a quantum circuit. \n",
    "    \n",
    "    To be used inside the `parametrized_circuit` function. \n",
    "    \n",
    "    Args\n",
    "    -------\n",
    "    \n",
    "    Return\n",
    "    -------\n",
    "    \n",
    "    \n",
    "    TODO:\n",
    "    1. Add choice of encoding gate: ry, rz, or rx.\n",
    "    \"\"\"\n",
    "    \n",
    "    qc = qk.QuantumCircuit(num_qubits)\n",
    "    \n",
    "    # Encode data with a RX rotation\n",
    "    for i, data in enumerate(inputs): \n",
    "        qc.rx(inputs[i], i)\n",
    "        \n",
    "    return qc\n",
    "\n",
    "def parametrized_circuit(num_qubits = 4, reuploading = False, reps = 2, insert_barriers = True, meas = False):\n",
    "    \"\"\"\n",
    "    Create the Parameterized Quantum Circuit (PQC) for estimating Q-values.\n",
    "    It is the same reported in arXiv:2104.15084 (Skolik et al.).\n",
    "    \n",
    "    Args\n",
    "    -------\n",
    "    \n",
    "    Return\n",
    "    -------\n",
    "    \"\"\"\n",
    "    \n",
    "    qr = qk.QuantumRegister(num_qubits, 'qr')\n",
    "    qc = qk.QuantumCircuit(qr)\n",
    "    \n",
    "    if meas:\n",
    "        qr = qk.QuantumRegister(num_qubits, 'qr')\n",
    "        cr = qk.ClassicalRegister(num_qubits, 'cr')\n",
    "        qc = qk.QuantumCircuit(qr,cr)\n",
    "    \n",
    "    \n",
    "    if not reuploading:\n",
    "        \n",
    "        # Define a vector containg Inputs as parameters (*not* to be optimized)\n",
    "        inputs = qk.circuit.ParameterVector('x', num_qubits)\n",
    "        \n",
    "        # Define a weights for the encoding (NOT USED NOW IN CLASSICAL ENCODING LAYER)\n",
    "        # encoding_weights = qk.circuit.ParameterVector('w', num_qubits)\n",
    "        \n",
    "        # Encode classical input data\n",
    "        qc.compose(encoding_circuit(inputs, num_qubits = num_qubits), inplace = True)\n",
    "        if insert_barriers: qc.barrier()\n",
    "        \n",
    "        # Variational circuit\n",
    "        qc.compose(TwoLocal(num_qubits, ['ry', 'rz'], 'cz', 'circular', \n",
    "               reps=reps, insert_barriers= insert_barriers, \n",
    "               skip_final_rotation_layer = True), inplace = True)\n",
    "        if insert_barriers: qc.barrier()\n",
    "        \n",
    "        # Add final measurements\n",
    "        if meas: qc.measure(qr,cr)\n",
    "        \n",
    "    elif reuploading:\n",
    "        \n",
    "        # Define a vector containg Inputs as parameters (*not* to be optimized)\n",
    "        inputs = qk.circuit.ParameterVector('x', num_qubits)\n",
    "        \n",
    "        # Define a weights for the encoding (NOT USED NOW IN CLASSICAL ENCODING LAYER)\n",
    "        # encoding_weights = qk.circuit.ParameterVector('w', num_qubits)\n",
    "        \n",
    "        # Define a vector containng variational parameters\n",
    "        θ = qk.circuit.ParameterVector('θ', 2 * num_qubits * reps)\n",
    "        \n",
    "        # Iterate for a number of repetitions\n",
    "        for rep in range(reps):\n",
    "\n",
    "            # Encode classical input data\n",
    "            qc.compose(encoding_circuit(inputs, num_qubits = num_qubits), inplace = True)\n",
    "            if insert_barriers: qc.barrier()\n",
    "                \n",
    "            # Variational circuit (does the same as TwoLocal from Qiskit)\n",
    "            for qubit in range(num_qubits):\n",
    "                qc.ry(θ[qubit + 2*num_qubits*(rep)], qubit)\n",
    "                qc.rz(θ[qubit + 2*num_qubits*(rep) + num_qubits], qubit)\n",
    "            if insert_barriers: qc.barrier()\n",
    "                \n",
    "            # Add entanglers (this code is for a circular entangler)\n",
    "            qc.cz(qr[-1], qr[0])\n",
    "            for qubit in range(num_qubits-1):\n",
    "                qc.cz(qr[qubit], qr[qubit+1])\n",
    "            if insert_barriers: qc.barrier()\n",
    "                        \n",
    "        # (Optional) Add final measurements\n",
    "        if meas: qc.measure(qr,cr)\n",
    "        \n",
    "    return qc"
   ]
  },
  {
   "cell_type": "markdown",
   "metadata": {},
   "source": [
    "#### Create the PQC  \n",
    "\n",
    "We used the functions just defined to create the Parametrized Quantum Circuit, which togeher with a classical pre-processing and post-processing layer, is used to create the Deep Q-Network."
   ]
  },
  {
   "cell_type": "code",
   "execution_count": 4,
   "metadata": {},
   "outputs": [
    {
     "data": {
      "image/png": "[encoded data removed]",
      "text/plain": [
       "<Figure size 1600.25x565.88 with 1 Axes>"
      ]
     },
     "execution_count": 4,
     "metadata": {},
     "output_type": "execute_result"
    }
   ],
   "source": [
    "# Select the number of qubits\n",
    "num_qubits = 4\n",
    "\n",
    "# Generate the Parametrized Quantum Circuit (note the flag reuploading)\n",
    "qc = parametrized_circuit(num_qubits = num_qubits, \n",
    "                          reuploading = True, \n",
    "                          reps = 5)\n",
    "\n",
    "# Fetch the parameters from the circuit and divide them in Inputs (X) and Trainable Parameters (params)\n",
    "# Note that the strange division is due to how Qiskit orders the parameters, check for yourself that \n",
    "# X actually contains parameters 'x' used for the inputs of the circuit. \n",
    "X = list(qc.parameters)[: num_qubits]\n",
    "params = list(qc.parameters)[num_qubits:]\n",
    "\n",
    "qc.draw()"
   ]
  },
  {
   "cell_type": "markdown",
   "metadata": {},
   "source": [
    "Use `Qiskit`'s brand new `CircuitQNN` and `TorchConnector` modules to create a `PyTorch` model from the parametrized quantum circuit. "
   ]
  },
  {
   "cell_type": "code",
   "execution_count": 5,
   "metadata": {},
   "outputs": [],
   "source": [
    "qi_qasm = QuantumInstance(qk.Aer.get_backend('qasm_simulator'))\n",
    "qi = QuantumInstance(qk.Aer.get_backend('statevector_simulator'))\n",
    "\n",
    "qnn = CircuitQNN(qc, input_params=X, weight_params=params, \n",
    "                 quantum_instance = qi)\n",
    "\n",
    "# set up PyTorch module\n",
    "initial_weights = (2*np.random.rand(qnn.num_weights) - 1)\n",
    "quantum_nn = TorchConnector(qnn, initial_weights)"
   ]
  },
  {
   "cell_type": "markdown",
   "metadata": {},
   "source": [
    "## Classical pre and post processing layers  \n",
    "\n",
    "As stated in the paper, for the model to function properly, classical pre- and post-processing layers are needed. Both of these will contains parameters hence will be trainable and optimized duirng the draining of the model.  \n",
    "\n",
    "We define such layers as classes inheriting from `PyTorch`'s `torch.nn.Module`.  \n",
    "\n",
    "#### `encoding_layer`  \n",
    "\n",
    "First, we define the pre-processing (*encoding*) layer, which takes the classical inputs $\\vec{x}= (x_0, x_1, x_2, x_3)$, multiplies them by a trainable parameters $\\vec{w}= (w_0, w_1, w_2, w_3)$, and then applies an $\\arctan$ on it, thus leading to the final transformation:  \n",
    "\n",
    "$$ \n",
    "\\vec{x} \\rightarrow \\vec{x}' = (x'_0, x'_1, x'_2, x'_3)\\quad\n",
    "{\\rm{with}}\\quad x'_i = \\arctan(w_i \\cdot x_i)\\, .\n",
    "$$  "
   ]
  },
  {
   "cell_type": "code",
   "execution_count": 6,
   "metadata": {},
   "outputs": [],
   "source": [
    "class encoding_layer(torch.nn.Module):\n",
    "    def __init__(self, num_qubits = 4):\n",
    "        super().__init__()\n",
    "        \n",
    "        # Define weights for the layer\n",
    "        weights = torch.Tensor(num_qubits)\n",
    "        self.weights = torch.nn.Parameter(weights)\n",
    "        torch.nn.init.uniform_(self.weights, -1, 1) # <--  Initialization strategy\n",
    "    \n",
    "        \n",
    "    def forward(self, x):\n",
    "        \"\"\"Forward step, as explained above.\"\"\"\n",
    "        \n",
    "        if not isinstance(x, Tensor):\n",
    "            x = Tensor(x)\n",
    "        # if len(x.shape) == 1: # Not needed, may cause problems\n",
    "        #    x = torch.unsqueeze(x, 0)\n",
    "        \n",
    "        x = self.weights * x\n",
    "        x = torch.atan(x)\n",
    "                \n",
    "        return x"
   ]
  },
  {
   "cell_type": "markdown",
   "metadata": {},
   "source": [
    "#### `exp_val_layer`\n",
    "Then, we create a the post-processing layer, which takes as input the output of the quantum circuit $\\vec{p} = (p_0, p_1,\\cdots, p_{16})$, consisting of the vector of outcomes probabilities of size $2^{\\rm n\\_qubits}$ (one entry per computational basis' state).  \n",
    "> Using Qiskit's ordering of the qubits, $p_0$ corresponds to the probability of measuring state $|0000\\rangle$, $p_1$ probability of measuring state $|0001\\rangle$, and so on up until $p_{16}$ corresponding to the probability of measuring $|1111\\rangle$.   \n",
    "\n",
    "Given these probabilities, the `exp_val_layer` evaluates the expectation values $\\langle Z_0 Z_1\\rangle$ and $\\langle Z_2 Z_3\\rangle$, corresponding to the Q-values of the two possible actions $a$: \"*left* or \"*right*\". At last, such values are shifted in $[0,1]$ and multiplied by a trainable weight each. \n",
    "\n",
    "#### Technical details \n",
    "The math behind this layer is as follows. $O_a$ is the operator corresponding to the action $a$, which are taken to be $O_{\\rm left} = Z_0 Z_1$ and $O_{\\rm right} = Z_2 Z_3$.  \n",
    "> By $Z_0 Z_1$ we mean the Pauli Operator $Z$ acting of qubits '0' and '1', and identities on the other qubits, i.e the operator $Z_0 Z_1 \\leftarrow Z_0 \\otimes Z_1 \\otimes \\mathbb{1}_2 \\otimes \\mathbb{1}_3$. Same goes for $Z_3 Z_4$.  \n",
    "\n",
    "The Q-values $Q(s, a)$ of action $a$ given a state $s$ is given by:\n",
    "\n",
    "$$\n",
    "Q(s, a) = w_{a}\\cdot \\frac{\\langle \\boldsymbol{0} | U_{\\theta}(\\vec{s})^\\dagger O_a U_{\\theta}(\\vec{s}) |\\boldsymbol{0}\\rangle +1}{2}\n",
    "$$\n",
    "\n",
    "So the outcome of the `exp_val_layer` consists of the couple $\\big[Q(s, a = {\\rm left}),\\, Q(s, a = {\\rm right})\\big]$. \n",
    "\n",
    "In order to go from the vector of probabilities $\\vec{p}$ to the expectation values $\\langle Z_0 Z_1\\rangle$ and $\\langle Z_2 Z_3\\rangle$, one can do the following. Be $|\\psi\\rangle$ the state created by the PQC, on which we evaluate the mean vales. Then  \n",
    "\n",
    "$$\n",
    "\\langle Z_j Z_k\\rangle = \\langle \\psi |Z_j Z_k \\mathbb{1}|\\psi\\rangle = \\sum_{i = 0}^{15} \\langle \\psi |\\underbrace{Z_j Z_k |i\\rangle}_{ = f_{kj}(i)|i\\rangle}\\langle i |\\psi\\rangle = \\sum_{i=0}^{15}f_{kj}(i)|\\langle i | \\psi \\rangle |^2 = \\sum_{i=0}^{15}f_{jk}(i) \\cdot p_i\\,\n",
    "$$\n",
    "\n",
    "where $f_{jk}(i)$ is given by  \n",
    "\n",
    "$$\n",
    "Z_j Z_k |i\\rangle = Z_j Z_k |i_3 i_2 i_1 i_0\\rangle = (-)^{i_j}(-)^{i_k}|i_3 i_2 i_1 i_0\\rangle = (-)^{i_j+i_k}|i\\rangle \\quad \\big(\\text{NOTE: Qiskit ordering is being used!}\\big)\\\\\n",
    "\\implies \\langle Z_j Z_k\\rangle = \\sum_{i} (-)^{i_j + i_k} p_i\n",
    "$$\n",
    "\n",
    "One can check manually that (using `Qiskit` *little endian* ordering of the qubits):  \n",
    "\n",
    "$$\n",
    "Z_0 Z_1 \\rightarrow \\vec{f}_{01} = (1,-1,-1,1,1,-1,-1,1,1,-1,-1,1,1,-1,-1,1)\\\\\n",
    "Z_2 Z_3 \\rightarrow \\vec{f}_{23} = (-1,-1,-1,-1,1,1,1,1,-1,-1,-1,-1,1,1,1,1)\n",
    "$$\n"
   ]
  },
  {
   "cell_type": "code",
   "execution_count": 7,
   "metadata": {},
   "outputs": [],
   "source": [
    "class exp_val_layer(torch.nn.Module):\n",
    "    def __init__(self, action_space = 2):\n",
    "        super().__init__()\n",
    "        \n",
    "        # Define the weights for the layer\n",
    "        weights = torch.Tensor(action_space)\n",
    "        self.weights = torch.nn.Parameter(weights)\n",
    "        torch.nn.init.uniform_(self.weights, 35, 40) # <-- Initialization strategy (heuristic choice)\n",
    "        \n",
    "        # Check that these masks take the vector of probabilities to <Z_0*Z_1> and <Z_2*Z_3>\n",
    "        self.mask_ZZ_12 = torch.tensor([1.,-1.,-1.,1.,1.,-1.,-1.,1.,1.,-1.,-1.,1.,1.,-1.,-1.,1.], requires_grad = False)\n",
    "        self.mask_ZZ_34 = torch.tensor([-1.,-1.,-1.,-1.,1.,1.,1.,1.,-1.,-1.,-1.,-1.,1.,1.,1.,1.], requires_grad = False)\n",
    "        \n",
    "    def forward(self, x):\n",
    "        \"\"\"Forward step, as described above.\"\"\"\n",
    "        \n",
    "        \n",
    "        expval_ZZ_12 = self.mask_ZZ_12 * x\n",
    "        expval_ZZ_34 = self.mask_ZZ_34 * x\n",
    "\n",
    "        if len(x.shape) == 1:\n",
    "            expval_ZZ_12 = torch.sum(expval_ZZ_12)#, dim = 1, keepdim = True)\n",
    "            expval_ZZ_34 = torch.sum(expval_ZZ_34)#, dim = 1, keepdim = True)\n",
    "            out = torch.cat((expval_ZZ_12.unsqueeze(0), expval_ZZ_34.unsqueeze(0)))\n",
    "        else:\n",
    "            expval_ZZ_12 = torch.sum(expval_ZZ_12, dim = 1, keepdim = True)\n",
    "            expval_ZZ_34 = torch.sum(expval_ZZ_34, dim = 1, keepdim = True)\n",
    "            out = torch.cat((expval_ZZ_12, expval_ZZ_34), 1)\n",
    "                \n",
    "        return self.weights * ((out + 1.) / 2.)"
   ]
  },
  {
   "cell_type": "markdown",
   "metadata": {},
   "source": [
    "## Deep Q-network  \n",
    "\n",
    "Now we proceed by creating the neural network (quantum + classical) to be trained to solve the Reinforcement Learning task.  \n",
    "\n",
    "First, let's define the `OpenAI Gym` environment, in particular `CartPole-v1`:"
   ]
  },
  {
   "cell_type": "code",
   "execution_count": 8,
   "metadata": {},
   "outputs": [],
   "source": [
    "env = gym.make(\"CartPole-v1\")\n",
    "input_shape = [4] # == env.observation_space.shape\n",
    "n_outputs = 2 # == env.action_space.n"
   ]
  },
  {
   "cell_type": "markdown",
   "metadata": {},
   "source": [
    "This code is used to create memories of the past experiences for the agents, which are used during the training of the agent."
   ]
  },
  {
   "cell_type": "code",
   "execution_count": 9,
   "metadata": {},
   "outputs": [],
   "source": [
    "from collections import deque\n",
    "\n",
    "replay_memory = deque(maxlen=2000)"
   ]
  },
  {
   "cell_type": "markdown",
   "metadata": {},
   "source": [
    "### Training Functions  \n",
    "\n",
    "Here we define the functions for the classical Reinforcement Learning algorithm. This is based of the implementation pointed above at the start of the Notebook."
   ]
  },
  {
   "cell_type": "code",
   "execution_count": 10,
   "metadata": {},
   "outputs": [],
   "source": [
    "#### OLD FUNCTIONS (IGNORE) ####\n",
    "#def epsilon_greedy_policy(state, epsilon=0):\n",
    "#    if np.random.rand() < epsilon:\n",
    "#        return np.random.randint(n_outputs)\n",
    "#    else:\n",
    "#        with torch.no_grad():\n",
    "#            Q_values = model(Tensor(state)).numpy() # Remove Tensor\n",
    "#        return np.argmax(Q_values[0])\n",
    "#\n",
    "#def sample_experiences(batch_size):\n",
    "#    indices = np.random.randint(len(replay_memory), size=batch_size)\n",
    "#    batch = [replay_memory[index] for index in indices]\n",
    "#    states, actions, rewards, next_states, dones = [\n",
    "#        np.array([experience[field_index] for experience in batch])\n",
    "#        for field_index in range(5)]\n",
    "#    return states, actions, rewards, next_states, dones\n",
    "#\n",
    "#def play_one_step(env, state, epsilon):\n",
    "#    action = epsilon_greedy_policy(state, epsilon)\n",
    "#    next_state, reward, done, info = env.step(action)\n",
    "#    replay_memory.append((state, action, reward, next_state, done))\n",
    "#    return next_state, reward, done, info\n",
    "#\n",
    "#def training_step(batch_size):\n",
    "#    experiences = sample_experiences(batch_size)\n",
    "#    states, actions, rewards, next_states, dones = experiences\n",
    "#    \n",
    "#    with torch.no_grad():\n",
    "#        next_Q_values = model(Tensor(next_states)).numpy() # Remove Tensor\n",
    "#        \n",
    "#    max_next_Q_values = np.max(next_Q_values, axis=1)\n",
    "#    target_Q_values = (rewards + (1 - dones) * discount_rate * max_next_Q_values)\n",
    "#    target_Q_values = target_Q_values.reshape(-1, 1) # Not needed if loss is calculated per sample\n",
    "#    \n",
    "#    # NEW ROUTINE\n",
    "#    #loss = 0.0\n",
    "#    #for j in range(batch_size):\n",
    "#    #    q_value = model(Tensor(states[j])) # Remove Tensor\n",
    "#    #    q_value = q_value[actions[j]] # q_value[0, actions[j]]\n",
    "#    #    loss += (torch.tensor(target_Q_values[j])**2 - q_value**2) / batch_size\n",
    "#    #\n",
    "#    #model.zero_grad()\n",
    "#    #loss.backward()\n",
    "#    #\n",
    "#    #optimizer.step()\n",
    "#    \n",
    "#    # OLD ROUTINE \n",
    "#    mask = torch.nn.functional.one_hot(Tensor(actions).long(), n_outputs)\n",
    "#    # print(\"qui\")\n",
    "#    \n",
    "#    all_Q_values = model((Tensor(states)))\n",
    "#    # print(\"allQ:\",all_Q_values)\n",
    "#    # print(\"mask:\",mask)\n",
    "#    Q_values = torch.sum(all_Q_values * mask, dim=1, keepdims=True)\n",
    "#    #print(\"taget_q:\",target_Q_values)\n",
    "#    #print(\"qval:\",Q_values)\n",
    "#    loss = loss_fn(Tensor(target_Q_values), Q_values)\n",
    "#    \n",
    "#    optimizer.zero_grad()\n",
    "#    loss.backward()\n",
    "#\n",
    "#    optimizer.step()"
   ]
  },
  {
   "cell_type": "code",
   "execution_count": 11,
   "metadata": {},
   "outputs": [],
   "source": [
    "#### NEW FUNCTIONS #####\n",
    "\n",
    "def epsilon_greedy_policy(state, epsilon=0):\n",
    "    if np.random.rand() < epsilon:\n",
    "        return np.random.randint(n_outputs)\n",
    "    else:\n",
    "        with torch.no_grad():\n",
    "            Q_values = model(Tensor(state[np.newaxis])).numpy()\n",
    "        return np.argmax(Q_values[0])\n",
    "    \n",
    "def sample_experiences(batch_size):\n",
    "    indices = np.random.randint(len(replay_memory), size=batch_size)\n",
    "    batch = [replay_memory[index] for index in indices]\n",
    "    states, actions, rewards, next_states, dones = [\n",
    "        np.array([experience[field_index] for experience in batch])\n",
    "        for field_index in range(5)]\n",
    "    return states, actions, rewards, next_states, dones\n",
    "\n",
    "def play_one_step(env, state, epsilon):\n",
    "    action = epsilon_greedy_policy(state, epsilon)\n",
    "    next_state, reward, done, info = env.step(action)\n",
    "    replay_memory.append((state, action, reward, next_state, done))\n",
    "    return next_state, reward, done, info\n",
    "\n",
    "def sequential_training_step(batch_size):\n",
    "    # Use this training on the quantum model otherwise vanishing gradients. \n",
    "    # If possible, double check that this method and the one below gives same results.\n",
    "    experiences = sample_experiences(batch_size)\n",
    "    states, actions, rewards, next_states, dones = experiences\n",
    "    \n",
    "    # Evaluates the Target Q-values\n",
    "    with torch.no_grad():\n",
    "        next_Q_values = model(Tensor(next_states)).numpy()\n",
    "    max_next_Q_values = np.max(next_Q_values, axis=1)\n",
    "    target_Q_values = (rewards + (1 - dones) * discount_rate * max_next_Q_values)\n",
    "    \n",
    "    # Accumulate Loss (this is the only way it works. If batching data, gradients are vanishing)\n",
    "    loss = 0.\n",
    "    for j, state in enumerate(states):\n",
    "        single_Q_value = model(Tensor(state))\n",
    "        Q_value = single_Q_value[actions[j]]\n",
    "        loss += (target_Q_values[j] - Q_value)**2\n",
    "    \n",
    "    optimizer.zero_grad()\n",
    "    loss.backward()\n",
    "    #print(model[0].weights.grad)\n",
    "    #print(model[1].weights.grad)\n",
    "    #print(model[2].weights.grad)\n",
    "    optimizer.step()\n",
    "\n",
    "def training_step(batch_size):\n",
    "    experiences = sample_experiences(batch_size)\n",
    "    states, actions, rewards, next_states, dones = experiences\n",
    "    with torch.no_grad():\n",
    "        next_Q_values = model(Tensor(next_states)).numpy()\n",
    "    max_next_Q_values = np.max(next_Q_values, axis=1)\n",
    "    target_Q_values = (rewards +\n",
    "                       (1 - dones) * discount_rate * max_next_Q_values)\n",
    "    target_Q_values = target_Q_values.reshape(-1, 1)\n",
    "    mask = torch.nn.functional.one_hot(Tensor(actions).long(), n_outputs)\n",
    "    \n",
    "    all_Q_values = model(Tensor(states))\n",
    "    Q_values = torch.sum(all_Q_values * mask, dim=1, keepdims=True)\n",
    "    loss = loss_fn(Tensor(target_Q_values), Q_values)\n",
    "    \n",
    "    optimizer.zero_grad()\n",
    "    loss.backward()\n",
    "    \n",
    "    optimizer.step()"
   ]
  },
  {
   "cell_type": "markdown",
   "metadata": {},
   "source": [
    "### Final model  \n",
    "\n",
    "We construct the final hybrid classical-quantum neural network by stacking together the three layers:  \n",
    "`model` = `encoding_layer` --> `quantum_layer` --> `exp_val_layer`"
   ]
  },
  {
   "cell_type": "code",
   "execution_count": 12,
   "metadata": {},
   "outputs": [
    {
     "data": {
      "text/plain": [
       "OrderedDict([('0.weights', tensor([ 0.7645,  0.8300, -0.2343,  0.9186])),\n",
       "             ('1._weights',\n",
       "              tensor([-0.2509,  0.9014,  0.4640,  0.1973, -0.6880, -0.6880, -0.8838,  0.7324,\n",
       "                       0.2022,  0.4161, -0.9588,  0.9398,  0.6649, -0.5753, -0.6364, -0.6332,\n",
       "                      -0.3915,  0.0495, -0.1361, -0.4175,  0.2237, -0.7210, -0.4157, -0.2673,\n",
       "                      -0.0879,  0.5704, -0.6007,  0.0285,  0.1848, -0.9071,  0.2151, -0.6590,\n",
       "                      -0.8699,  0.8978,  0.9313,  0.6168, -0.3908, -0.8047,  0.3685, -0.1197])),\n",
       "             ('2.weights', tensor([36.9522, 38.0045]))])"
      ]
     },
     "execution_count": 12,
     "metadata": {},
     "output_type": "execute_result"
    }
   ],
   "source": [
    "encoding = encoding_layer()\n",
    "exp_val = exp_val_layer()\n",
    "\n",
    "model = torch.nn.Sequential(encoding, \n",
    "                            quantum_nn, \n",
    "                            exp_val)\n",
    "\n",
    "model.state_dict()"
   ]
  },
  {
   "cell_type": "markdown",
   "metadata": {},
   "source": [
    "#### Fully classical model"
   ]
  },
  {
   "cell_type": "code",
   "execution_count": 120,
   "metadata": {},
   "outputs": [
    {
     "data": {
      "text/plain": [
       "OrderedDict([('0.weight',\n",
       "              tensor([[-0.2434,  0.2936,  0.4408, -0.3668],\n",
       "                      [ 0.4346,  0.0936,  0.3694,  0.0677],\n",
       "                      [ 0.2411, -0.0706,  0.3854,  0.0739],\n",
       "                      [-0.2334,  0.1274, -0.2304, -0.0586],\n",
       "                      [-0.2031,  0.3317, -0.3947, -0.2305],\n",
       "                      [-0.1412, -0.3006,  0.0472, -0.4938],\n",
       "                      [ 0.4516, -0.4247,  0.3860,  0.0832],\n",
       "                      [-0.1624,  0.3090,  0.0779,  0.4040],\n",
       "                      [ 0.0547, -0.1577,  0.1343, -0.1356],\n",
       "                      [ 0.2104,  0.4464,  0.2890, -0.2186],\n",
       "                      [ 0.2886,  0.0895,  0.2539, -0.3048],\n",
       "                      [-0.4950, -0.1932, -0.3835,  0.4103],\n",
       "                      [ 0.1440,  0.2071,  0.1581, -0.0087],\n",
       "                      [ 0.3913, -0.3553,  0.0315, -0.3413],\n",
       "                      [ 0.1542, -0.1722,  0.1532, -0.1042],\n",
       "                      [ 0.4147, -0.2964, -0.2982, -0.2982],\n",
       "                      [ 0.4497,  0.1666,  0.4811, -0.4126],\n",
       "                      [-0.4959, -0.3912, -0.3363,  0.2025],\n",
       "                      [ 0.1790,  0.4155, -0.2582, -0.3409],\n",
       "                      [ 0.2653, -0.2021,  0.3035, -0.1187],\n",
       "                      [ 0.2860, -0.3885, -0.2523,  0.1524],\n",
       "                      [ 0.1057, -0.1275,  0.2980,  0.3399],\n",
       "                      [-0.3626, -0.2669,  0.4578, -0.1687],\n",
       "                      [-0.1773, -0.4838, -0.2863,  0.1249],\n",
       "                      [-0.0660, -0.3629,  0.0117, -0.3415],\n",
       "                      [-0.4242, -0.2753, -0.4376, -0.3184],\n",
       "                      [ 0.4998,  0.0944,  0.1541, -0.4663],\n",
       "                      [-0.3284, -0.1664,  0.0782, -0.4400],\n",
       "                      [-0.2154, -0.2993,  0.0014, -0.1861],\n",
       "                      [-0.0346, -0.3388, -0.3432, -0.2917],\n",
       "                      [-0.1711, -0.3946,  0.4192, -0.0992],\n",
       "                      [ 0.4302,  0.1558, -0.4234,  0.3460]])),\n",
       "             ('0.bias',\n",
       "              tensor([-0.1376, -0.1917, -0.4150, -0.4971,  0.1431, -0.1092,  0.1947, -0.4103,\n",
       "                       0.3712, -0.3670, -0.0863,  0.1044,  0.2581,  0.4037,  0.4555, -0.3965,\n",
       "                       0.1258, -0.2151, -0.0548, -0.3742,  0.4554, -0.3670,  0.2672,  0.1757,\n",
       "                       0.1625, -0.2703,  0.4545,  0.1099,  0.0643, -0.4406,  0.2099, -0.0750])),\n",
       "             ('2.weight',\n",
       "              tensor([[-0.0810,  0.1518,  0.0394,  ..., -0.0396,  0.0026, -0.0106],\n",
       "                      [ 0.0425,  0.0495, -0.1606,  ...,  0.0644, -0.1233, -0.1745],\n",
       "                      [-0.1436,  0.1318,  0.0849,  ...,  0.0802,  0.1263, -0.1356],\n",
       "                      ...,\n",
       "                      [ 0.1495,  0.0107, -0.1065,  ..., -0.1037,  0.1453, -0.1699],\n",
       "                      [ 0.0790,  0.1762,  0.0885,  ...,  0.0267,  0.1703,  0.1212],\n",
       "                      [-0.1377,  0.1614,  0.0137,  ..., -0.0406,  0.0275,  0.1150]])),\n",
       "             ('2.bias',\n",
       "              tensor([-0.0586,  0.1416,  0.1396, -0.1357, -0.1365, -0.1430, -0.0969, -0.0688,\n",
       "                      -0.0133, -0.0430, -0.0893, -0.0562, -0.0639,  0.1734, -0.0655, -0.1266,\n",
       "                       0.0735, -0.0102,  0.1353,  0.1105,  0.1624, -0.1295,  0.1136,  0.1484,\n",
       "                      -0.0873,  0.1625,  0.1325,  0.0019,  0.0852, -0.0618, -0.1542,  0.0447])),\n",
       "             ('4.weight',\n",
       "              tensor([[ 0.0527, -0.1155,  0.0857, -0.1510,  0.1521,  0.1712,  0.0481, -0.1109,\n",
       "                        0.0860,  0.0301,  0.0481,  0.0581,  0.1346, -0.0760, -0.0398,  0.0482,\n",
       "                        0.0193,  0.1425, -0.0928, -0.0064,  0.0330, -0.0469,  0.1205,  0.0193,\n",
       "                       -0.1634, -0.0192, -0.0802,  0.0172, -0.0205, -0.1754, -0.0322, -0.0169],\n",
       "                      [-0.0521,  0.1624, -0.0386,  0.1136,  0.0438, -0.1492,  0.0415,  0.1465,\n",
       "                       -0.1156, -0.1143,  0.1730,  0.1420, -0.0986,  0.1064, -0.0226, -0.1743,\n",
       "                        0.0133,  0.0571, -0.0530,  0.0615, -0.1512,  0.1225,  0.1507,  0.0975,\n",
       "                        0.0300,  0.0582, -0.1279, -0.0442, -0.0169, -0.0984, -0.1306,  0.1189]])),\n",
       "             ('4.bias', tensor([ 0.1200, -0.1605]))])"
      ]
     },
     "execution_count": 120,
     "metadata": {},
     "output_type": "execute_result"
    }
   ],
   "source": [
    "model = torch.nn.Sequential(torch.nn.Linear(4,32),\n",
    "                            torch.nn.ELU(),\n",
    "                            torch.nn.Linear(32,32),\n",
    "                            torch.nn.ELU(),\n",
    "                            torch.nn.Linear(32,2))\n",
    "\n",
    "model.state_dict()"
   ]
  },
  {
   "cell_type": "code",
   "execution_count": 121,
   "metadata": {},
   "outputs": [
    {
     "data": {
      "text/plain": [
       "1282"
      ]
     },
     "execution_count": 121,
     "metadata": {},
     "output_type": "execute_result"
    }
   ],
   "source": [
    "pytorch_total_params = sum(p.numel() for p in model.parameters() if p.requires_grad)\n",
    "pytorch_total_params"
   ]
  },
  {
   "cell_type": "code",
   "execution_count": 122,
   "metadata": {},
   "outputs": [
    {
     "data": {
      "text/plain": [
       "1282"
      ]
     },
     "execution_count": 122,
     "metadata": {},
     "output_type": "execute_result"
    }
   ],
   "source": [
    "pytorch_total_params = sum(p.numel() for p in model.parameters())\n",
    "pytorch_total_params"
   ]
  },
  {
   "cell_type": "markdown",
   "metadata": {},
   "source": [
    "#### Define hyperparameters  \n",
    "\n",
    "Define some hyperparameters, optimizer to be used, and loss function (*this is not used actually*)."
   ]
  },
  {
   "cell_type": "code",
   "execution_count": 13,
   "metadata": {},
   "outputs": [
    {
     "data": {
      "text/plain": [
       "{'defaults': {'lr': 0.01,\n",
       "  'betas': (0.9, 0.999),\n",
       "  'eps': 1e-08,\n",
       "  'weight_decay': 0,\n",
       "  'amsgrad': False},\n",
       " '_zero_grad_profile_name': 'Optimizer.zero_grad#Adam.zero_grad',\n",
       " 'state': defaultdict(dict, {}),\n",
       " 'param_groups': [{'params': [Parameter containing:\n",
       "    tensor([ 0.7645,  0.8300, -0.2343,  0.9186], requires_grad=True),\n",
       "    Parameter containing:\n",
       "    tensor([-0.2509,  0.9014,  0.4640,  0.1973, -0.6880, -0.6880, -0.8838,  0.7324,\n",
       "             0.2022,  0.4161, -0.9588,  0.9398,  0.6649, -0.5753, -0.6364, -0.6332,\n",
       "            -0.3915,  0.0495, -0.1361, -0.4175,  0.2237, -0.7210, -0.4157, -0.2673,\n",
       "            -0.0879,  0.5704, -0.6007,  0.0285,  0.1848, -0.9071,  0.2151, -0.6590,\n",
       "            -0.8699,  0.8978,  0.9313,  0.6168, -0.3908, -0.8047,  0.3685, -0.1197],\n",
       "           requires_grad=True),\n",
       "    Parameter containing:\n",
       "    tensor([36.9522, 38.0045], requires_grad=True)],\n",
       "   'lr': 0.01,\n",
       "   'betas': (0.9, 0.999),\n",
       "   'eps': 1e-08,\n",
       "   'weight_decay': 0,\n",
       "   'amsgrad': False}]}"
      ]
     },
     "execution_count": 13,
     "metadata": {},
     "output_type": "execute_result"
    }
   ],
   "source": [
    "batch_size = 16\n",
    "discount_rate = 0.99\n",
    "optimizer = Adam(model.parameters(), lr=1e-2)\n",
    "loss_fn = MSELoss(reduction = \"mean\") # Not used at the moment\n",
    "\n",
    "optimizer.__dict__"
   ]
  },
  {
   "cell_type": "markdown",
   "metadata": {},
   "source": [
    "#### Training starts"
   ]
  },
  {
   "cell_type": "code",
   "execution_count": null,
   "metadata": {},
   "outputs": [
    {
     "name": "stdout",
     "output_type": "stream",
     "text": [
      "Episode: 127, Steps : 58, eps: 0.3655"
     ]
    }
   ],
   "source": [
    "rewards = [] \n",
    "best_score = 0\n",
    "\n",
    "for episode in range(400):\n",
    "    obs = env.reset()    \n",
    "    for step in range(200):\n",
    "        epsilon = max(1 - episode / 200, 0.01)\n",
    "        obs, reward, done, info = play_one_step(env, obs, epsilon)\n",
    "        if done:\n",
    "            break\n",
    "    rewards.append(step) # Not shown in the book\n",
    "    if step >= best_score: # Not shown\n",
    "        best_weights = model.state_dict # Not shown\n",
    "        best_score = step # Not shown\n",
    "    print(\"\\rEpisode: {}, Steps : {}, eps: {:.3f}\".format(episode, step + 1, epsilon), end=\"\") # Not shown\n",
    "    if episode > 50:\n",
    "        sequential_training_step(batch_size)\n",
    "\n",
    "#model.set_weights(best_weights)"
   ]
  },
  {
   "cell_type": "code",
   "execution_count": 14,
   "metadata": {},
   "outputs": [
    {
     "data": {
      "text/plain": [
       "tensor([-3.8348e-07, -6.1112e-08,  1.2937e-07,  1.3687e-06])"
      ]
     },
     "execution_count": 14,
     "metadata": {},
     "output_type": "execute_result"
    }
   ],
   "source": [
    "model[0].weights.grad"
   ]
  },
  {
   "cell_type": "code",
   "execution_count": 15,
   "metadata": {},
   "outputs": [
    {
     "data": {
      "text/plain": [
       "tensor([-2.4028e-07,  0.0000e+00,  5.7369e-07,  1.3039e-08, -6.3330e-08,\n",
       "         5.5879e-08, -3.6508e-07,  2.3469e-07,  4.0978e-08,  1.4715e-07,\n",
       "         6.7055e-07, -4.0978e-07, -8.9407e-08, -3.0175e-07, -3.7998e-07,\n",
       "        -3.8976e-07,  2.7940e-07,  4.4331e-07,  2.6636e-07, -5.2527e-07,\n",
       "        -3.0175e-07, -3.0547e-07,  3.1665e-07, -2.6822e-07,  2.9802e-08,\n",
       "        -1.1921e-07,  2.5891e-07,  6.3609e-07,  8.9407e-08,  4.7497e-08,\n",
       "         4.0233e-07,  1.7136e-07,  0.0000e+00,  0.0000e+00,  0.0000e+00,\n",
       "         0.0000e+00,  0.0000e+00,  0.0000e+00,  0.0000e+00,  1.6941e-21])"
      ]
     },
     "execution_count": 15,
     "metadata": {},
     "output_type": "execute_result"
    }
   ],
   "source": [
    "model[1].weights.grad"
   ]
  },
  {
   "cell_type": "code",
   "execution_count": 16,
   "metadata": {},
   "outputs": [
    {
     "data": {
      "text/plain": [
       "tensor([-0.9495,  0.3914])"
      ]
     },
     "execution_count": 16,
     "metadata": {},
     "output_type": "execute_result"
    }
   ],
   "source": [
    "model[2].weights.grad"
   ]
  },
  {
   "cell_type": "code",
   "execution_count": null,
   "metadata": {},
   "outputs": [],
   "source": [
    "# These are optimal weights obtained with the training on 600 episodes, batch 16, lr = 1e-2, and\n",
    "# probably a vanishing gradient loss function\n",
    "opt_weights = OrderedDict([('0.weights', tensor([ 0.8229,  0.6987, -0.3140,  1.1798])),\n",
    "             ('1._weights',\n",
    "              tensor([-0.2359,  1.0064,  0.7440,  0.0314, -1.1688, -0.6151, -0.6669,  0.6689,\n",
    "                       0.2252,  0.4455, -1.1998,  0.9438,  0.6029, -0.5056, -0.5781, -0.4501,\n",
    "                      -0.5438,  0.1153,  0.0515, -0.4657,  0.1187, -0.8237, -0.2902, -0.4010,\n",
    "                       0.1199,  0.3153, -0.3995,  0.2988,  0.3378, -0.8388,  0.2970, -0.6015,\n",
    "                      -0.9951,  0.8411,  1.1244,  0.3238, -0.3908, -0.8047,  0.3685, -0.1197])),\n",
    "             ('2.weights', tensor([40.1335, 39.2579]))])"
   ]
  },
  {
   "cell_type": "code",
   "execution_count": 17,
   "metadata": {},
   "outputs": [
    {
     "data": {
      "text/plain": [
       "OrderedDict([('0.weights', tensor([ 0.8229,  0.6987, -0.3140,  1.1798])),\n",
       "             ('1._weights',\n",
       "              tensor([-0.2359,  1.0064,  0.7440,  0.0314, -1.1688, -0.6151, -0.6669,  0.6689,\n",
       "                       0.2252,  0.4455, -1.1998,  0.9438,  0.6029, -0.5056, -0.5781, -0.4501,\n",
       "                      -0.5438,  0.1153,  0.0515, -0.4657,  0.1187, -0.8237, -0.2902, -0.4010,\n",
       "                       0.1199,  0.3153, -0.3995,  0.2988,  0.3378, -0.8388,  0.2970, -0.6015,\n",
       "                      -0.9951,  0.8411,  1.1244,  0.3238, -0.3908, -0.8047,  0.3685, -0.1197])),\n",
       "             ('2.weights', tensor([40.1335, 39.2579]))])"
      ]
     },
     "execution_count": 17,
     "metadata": {},
     "output_type": "execute_result"
    }
   ],
   "source": [
    "model.state_dict()"
   ]
  },
  {
   "cell_type": "code",
   "execution_count": null,
   "metadata": {},
   "outputs": [],
   "source": [
    "with torch.no_grad():\n",
    "    model.weight = best_weights"
   ]
  },
  {
   "cell_type": "markdown",
   "metadata": {},
   "source": [
    "#### Plot of total reward over the episodes"
   ]
  },
  {
   "cell_type": "code",
   "execution_count": 125,
   "metadata": {},
   "outputs": [
    {
     "data": {
      "image/png": "[encoded data removed]",
      "text/plain": [
       "<Figure size 576x288 with 1 Axes>"
      ]
     },
     "metadata": {
      "needs_background": "light"
     },
     "output_type": "display_data"
    }
   ],
   "source": [
    "plt.figure(figsize=(8, 4))\n",
    "plt.plot(rewards)\n",
    "plt.xlabel(\"Episode\", fontsize=14)\n",
    "plt.ylabel(\"Sum of rewards\", fontsize=14)\n",
    "#save_fig(\"dqn_rewards_plot\")\n",
    "plt.show()"
   ]
  },
  {
   "cell_type": "markdown",
   "metadata": {},
   "source": [
    "#### Animation with the trained agent"
   ]
  },
  {
   "cell_type": "code",
   "execution_count": null,
   "metadata": {},
   "outputs": [],
   "source": [
    "# env.seed(42)\n",
    "state = env.reset()\n",
    "\n",
    "frames = []\n",
    "\n",
    "for step in range(200):\n",
    "    action = epsilon_greedy_policy(state)\n",
    "    state, reward, done, info = env.step(action)\n",
    "    print(action, state, model(Tensor([state])))\n",
    "    if done:\n",
    "        print(\"End at step:\", step)\n",
    "        break\n",
    "    img = env.render(mode=\"rgb_array\")\n",
    "    frames.append(img)\n",
    "    \n",
    "plot_animation(frames)"
   ]
  },
  {
   "cell_type": "markdown",
   "metadata": {},
   "source": [
    "#### Predictions"
   ]
  },
  {
   "cell_type": "markdown",
   "metadata": {},
   "source": [
    "# Tests (Ignore)"
   ]
  },
  {
   "cell_type": "code",
   "execution_count": 171,
   "metadata": {},
   "outputs": [
    {
     "data": {
      "text/plain": [
       "array([[1, 2, 3, 4]])"
      ]
     },
     "execution_count": 171,
     "metadata": {},
     "output_type": "execute_result"
    }
   ],
   "source": [
    "state = np.array([1,2,3,4])\n",
    "state[np.newaxis]"
   ]
  },
  {
   "cell_type": "code",
   "execution_count": 140,
   "metadata": {},
   "outputs": [
    {
     "data": {
      "text/plain": [
       "array([0.15063374, 0.00964634, 0.00964634, 0.00078855, 0.00964634,\n",
       "       0.23769898, 0.00078855, 0.04040915, 0.00964634, 0.00078855,\n",
       "       0.23769898, 0.04040915, 0.00078855, 0.04040915, 0.04040915,\n",
       "       0.17059212])"
      ]
     },
     "execution_count": 140,
     "metadata": {},
     "output_type": "execute_result"
    }
   ],
   "source": [
    "p_dict = {}\n",
    "for i in range(qnn.num_weights):\n",
    "    p_dict[params[i]] = 0\n",
    "    \n",
    "x_dict = {}\n",
    "for i in range(qnn.num_inputs):\n",
    "    x_dict[X[i]] = 0.5\n",
    "\n",
    "all_dict = {**p_dict, **x_dict}\n",
    "\n",
    "cc = qnn.circuit\n",
    "cc = cc.assign_parameters(all_dict)\n",
    "\n",
    "r = qk.execute(cc, backend = qk.Aer.get_backend(\"statevector_simulator\")).result().get_statevector()\n",
    "np.abs(r)**2 "
   ]
  },
  {
   "cell_type": "code",
   "execution_count": 134,
   "metadata": {},
   "outputs": [
    {
     "name": "stdout",
     "output_type": "stream",
     "text": [
      "OrderedDict([('_weights', tensor([1., 1., 1., 1., 1., 1., 1., 1., 1., 1., 1., 1., 1., 1., 1., 1., 1., 1.,\n",
      "        1., 1., 1., 1., 1., 1., 1., 1., 1., 1., 1., 1., 1., 1., 1., 1., 1., 1.,\n",
      "        1., 1., 1., 1.]))])\n",
      "None\n"
     ]
    }
   ],
   "source": [
    "init_weights = np.ones(qnn.num_weights)\n",
    "qnn2 = TorchConnector(qnn, init_weights)\n",
    "\n",
    "print(qnn2.state_dict())\n",
    "print(qnn2.weights.grad)"
   ]
  },
  {
   "cell_type": "code",
   "execution_count": 345,
   "metadata": {},
   "outputs": [],
   "source": [
    "def play_one_step(env, state, epsilon):\n",
    "    action = epsilon_greedy_policy(state, epsilon)\n",
    "    next_state, reward, done, info = env.step(action)\n",
    "    replay_memory.append((state, action, reward, next_state, done))\n",
    "    return next_state, reward, done, info\n",
    "\n",
    "s = env.reset()\n",
    "for i in range(10):\n",
    "    play_one_step(env, s, 1)"
   ]
  },
  {
   "cell_type": "code",
   "execution_count": 346,
   "metadata": {},
   "outputs": [
    {
     "data": {
      "text/plain": [
       "array([1.37200738, 1.21729629])"
      ]
     },
     "execution_count": 346,
     "metadata": {},
     "output_type": "execute_result"
    }
   ],
   "source": [
    "batch_size = 2\n",
    "experiences = sample_experiences(batch_size)\n",
    "states, actions, rewards, next_states, dones = experiences\n",
    "with torch.no_grad():\n",
    "    next_Q_values = qnn2(Tensor(next_states)).numpy()\n",
    "max_next_Q_values = np.max(next_Q_values, axis=1)\n",
    "\n",
    "target_Q_values = (rewards +\n",
    "                   (1 - dones) * discount_rate * max_next_Q_values)\n",
    "#target_Q_values = target_Q_values.reshape(-1, 1)\n",
    "target_Q_values"
   ]
  },
  {
   "cell_type": "code",
   "execution_count": 327,
   "metadata": {},
   "outputs": [
    {
     "name": "stdout",
     "output_type": "stream",
     "text": [
      "tensor(0.3078, grad_fn=<SumBackward0>) tensor(-0.1858, grad_fn=<SumBackward0>) tensor([ 0.3078, -0.1858], grad_fn=<CatBackward>)\n"
     ]
    }
   ],
   "source": [
    "single_Q_value = qnn2(Tensor(state))\n",
    "ZZ_1 = m1 * single_Q_value\n",
    "ZZ_1 = torch.sum(ZZ_1)#, dim = 1)#, keepdim = True)\n",
    "ZZ_2 = m2 * single_Q_value\n",
    "ZZ_2 = torch.sum(ZZ_2)#, dim = 1)#, keepdim = True)  \n",
    "single_Q_value = torch.cat((ZZ_1.unsqueeze(0), ZZ_2.unsqueeze(0)))\n",
    "\n",
    "print(ZZ_1, ZZ_2, single_Q_value)"
   ]
  },
  {
   "cell_type": "code",
   "execution_count": 428,
   "metadata": {},
   "outputs": [
    {
     "ename": "AttributeError",
     "evalue": "'NoneType' object has no attribute 'configuration'",
     "output_type": "error",
     "traceback": [
      "\u001b[0;31m---------------------------------------------------------------------------\u001b[0m",
      "\u001b[0;31mAttributeError\u001b[0m                            Traceback (most recent call last)",
      "\u001b[0;32m<ipython-input-428-8f702b665082>\u001b[0m in \u001b[0;36m<module>\u001b[0;34m\u001b[0m\n\u001b[0;32m----> 1\u001b[0;31m \u001b[0manna\u001b[0m \u001b[0;34m=\u001b[0m \u001b[0mCircuitQNN\u001b[0m\u001b[0;34m(\u001b[0m\u001b[0mqc\u001b[0m\u001b[0;34m)\u001b[0m\u001b[0;34m\u001b[0m\u001b[0;34m\u001b[0m\u001b[0m\n\u001b[0m",
      "\u001b[0;32m/opt/anaconda3/envs/IBMHack/lib/python3.8/site-packages/qiskit_machine_learning/neural_networks/circuit_qnn.py\u001b[0m in \u001b[0;36m__init__\u001b[0;34m(self, circuit, input_params, weight_params, sparse, sampling, interpret, output_shape, gradient, quantum_instance)\u001b[0m\n\u001b[1;32m     74\u001b[0m             \u001b[0mquantum_instance\u001b[0m \u001b[0;34m=\u001b[0m \u001b[0mQuantumInstance\u001b[0m\u001b[0;34m(\u001b[0m\u001b[0mquantum_instance\u001b[0m\u001b[0;34m)\u001b[0m\u001b[0;34m\u001b[0m\u001b[0;34m\u001b[0m\u001b[0m\n\u001b[1;32m     75\u001b[0m         \u001b[0mself\u001b[0m\u001b[0;34m.\u001b[0m\u001b[0m_quantum_instance\u001b[0m \u001b[0;34m=\u001b[0m \u001b[0mquantum_instance\u001b[0m\u001b[0;34m\u001b[0m\u001b[0;34m\u001b[0m\u001b[0m\n\u001b[0;32m---> 76\u001b[0;31m         \u001b[0mself\u001b[0m\u001b[0;34m.\u001b[0m\u001b[0m_sampler\u001b[0m \u001b[0;34m=\u001b[0m \u001b[0mCircuitSampler\u001b[0m\u001b[0;34m(\u001b[0m\u001b[0mquantum_instance\u001b[0m\u001b[0;34m,\u001b[0m \u001b[0mparam_qobj\u001b[0m\u001b[0;34m=\u001b[0m\u001b[0;32mFalse\u001b[0m\u001b[0;34m,\u001b[0m \u001b[0mcaching\u001b[0m\u001b[0;34m=\u001b[0m\u001b[0;34m'all'\u001b[0m\u001b[0;34m)\u001b[0m\u001b[0;34m\u001b[0m\u001b[0;34m\u001b[0m\u001b[0m\n\u001b[0m\u001b[1;32m     77\u001b[0m \u001b[0;34m\u001b[0m\u001b[0m\n\u001b[1;32m     78\u001b[0m         \u001b[0;31m# copy circuit and add measurements in case non are given\u001b[0m\u001b[0;34m\u001b[0m\u001b[0;34m\u001b[0m\u001b[0;34m\u001b[0m\u001b[0m\n",
      "\u001b[0;32m/opt/anaconda3/envs/IBMHack/lib/python3.8/site-packages/qiskit/opflow/converters/circuit_sampler.py\u001b[0m in \u001b[0;36m__init__\u001b[0;34m(self, backend, statevector, param_qobj, attach_results, caching)\u001b[0m\n\u001b[1;32m     76\u001b[0m         \"\"\"\n\u001b[1;32m     77\u001b[0m         \u001b[0mself\u001b[0m\u001b[0;34m.\u001b[0m\u001b[0m_quantum_instance\u001b[0m \u001b[0;34m=\u001b[0m \u001b[0mbackend\u001b[0m \u001b[0;32mif\u001b[0m \u001b[0misinstance\u001b[0m\u001b[0;34m(\u001b[0m\u001b[0mbackend\u001b[0m\u001b[0;34m,\u001b[0m \u001b[0mQuantumInstance\u001b[0m\u001b[0;34m)\u001b[0m \u001b[0;32melse\u001b[0m\u001b[0;31m\\\u001b[0m\u001b[0;34m\u001b[0m\u001b[0;34m\u001b[0m\u001b[0m\n\u001b[0;32m---> 78\u001b[0;31m             \u001b[0mQuantumInstance\u001b[0m\u001b[0;34m(\u001b[0m\u001b[0mbackend\u001b[0m\u001b[0;34m=\u001b[0m\u001b[0mbackend\u001b[0m\u001b[0;34m)\u001b[0m\u001b[0;34m\u001b[0m\u001b[0;34m\u001b[0m\u001b[0m\n\u001b[0m\u001b[1;32m     79\u001b[0m         \u001b[0mself\u001b[0m\u001b[0;34m.\u001b[0m\u001b[0m_statevector\u001b[0m \u001b[0;34m=\u001b[0m \u001b[0mstatevector\u001b[0m \u001b[0;32mif\u001b[0m \u001b[0mstatevector\u001b[0m \u001b[0;32mis\u001b[0m \u001b[0;32mnot\u001b[0m \u001b[0;32mNone\u001b[0m\u001b[0;31m \u001b[0m\u001b[0;31m\\\u001b[0m\u001b[0;34m\u001b[0m\u001b[0;34m\u001b[0m\u001b[0m\n\u001b[1;32m     80\u001b[0m             \u001b[0;32melse\u001b[0m \u001b[0mself\u001b[0m\u001b[0;34m.\u001b[0m\u001b[0mquantum_instance\u001b[0m\u001b[0;34m.\u001b[0m\u001b[0mis_statevector\u001b[0m\u001b[0;34m\u001b[0m\u001b[0;34m\u001b[0m\u001b[0m\n",
      "\u001b[0;32m/opt/anaconda3/envs/IBMHack/lib/python3.8/site-packages/qiskit/utils/quantum_instance.py\u001b[0m in \u001b[0;36m__init__\u001b[0;34m(self, backend, shots, seed_simulator, max_credits, basis_gates, coupling_map, initial_layout, pass_manager, seed_transpiler, optimization_level, backend_options, noise_model, timeout, wait, skip_qobj_validation, measurement_error_mitigation_cls, cals_matrix_refresh_period, measurement_error_mitigation_shots, job_callback)\u001b[0m\n\u001b[1;32m    150\u001b[0m \u001b[0;34m\u001b[0m\u001b[0m\n\u001b[1;32m    151\u001b[0m         \u001b[0;31m# setup backend config\u001b[0m\u001b[0;34m\u001b[0m\u001b[0;34m\u001b[0m\u001b[0;34m\u001b[0m\u001b[0m\n\u001b[0;32m--> 152\u001b[0;31m         \u001b[0mbasis_gates\u001b[0m \u001b[0;34m=\u001b[0m \u001b[0mbasis_gates\u001b[0m \u001b[0;32mor\u001b[0m \u001b[0mbackend\u001b[0m\u001b[0;34m.\u001b[0m\u001b[0mconfiguration\u001b[0m\u001b[0;34m(\u001b[0m\u001b[0;34m)\u001b[0m\u001b[0;34m.\u001b[0m\u001b[0mbasis_gates\u001b[0m\u001b[0;34m\u001b[0m\u001b[0;34m\u001b[0m\u001b[0m\n\u001b[0m\u001b[1;32m    153\u001b[0m         \u001b[0mcoupling_map\u001b[0m \u001b[0;34m=\u001b[0m \u001b[0mcoupling_map\u001b[0m \u001b[0;32mor\u001b[0m \u001b[0mgetattr\u001b[0m\u001b[0;34m(\u001b[0m\u001b[0mbackend\u001b[0m\u001b[0;34m.\u001b[0m\u001b[0mconfiguration\u001b[0m\u001b[0;34m(\u001b[0m\u001b[0;34m)\u001b[0m\u001b[0;34m,\u001b[0m \u001b[0;34m'coupling_map'\u001b[0m\u001b[0;34m,\u001b[0m \u001b[0;32mNone\u001b[0m\u001b[0;34m)\u001b[0m\u001b[0;34m\u001b[0m\u001b[0;34m\u001b[0m\u001b[0m\n\u001b[1;32m    154\u001b[0m         self._backend_config = {\n",
      "\u001b[0;31mAttributeError\u001b[0m: 'NoneType' object has no attribute 'configuration'"
     ]
    }
   ],
   "source": [
    "anna = CircuitQNN(qc, quant)"
   ]
  },
  {
   "cell_type": "code",
   "execution_count": 427,
   "metadata": {},
   "outputs": [
    {
     "ename": "TypeError",
     "evalue": "'int' object is not callable",
     "output_type": "error",
     "traceback": [
      "\u001b[0;31m---------------------------------------------------------------------------\u001b[0m",
      "\u001b[0;31mTypeError\u001b[0m                                 Traceback (most recent call last)",
      "\u001b[0;32m<ipython-input-427-def3ecb64e9e>\u001b[0m in \u001b[0;36m<module>\u001b[0;34m\u001b[0m\n\u001b[0;32m----> 1\u001b[0;31m \u001b[0mqnn\u001b[0m\u001b[0;34m.\u001b[0m\u001b[0minput_gradients\u001b[0m\u001b[0;34m(\u001b[0m\u001b[0mqnn\u001b[0m\u001b[0;34m)\u001b[0m\u001b[0;34m\u001b[0m\u001b[0;34m\u001b[0m\u001b[0m\n\u001b[0m",
      "\u001b[0;31mTypeError\u001b[0m: 'int' object is not callable"
     ]
    }
   ],
   "source": [
    "qnn.input_gradients(qnn)"
   ]
  },
  {
   "cell_type": "code",
   "execution_count": 420,
   "metadata": {},
   "outputs": [
    {
     "data": {
      "text/plain": [
       "True"
      ]
     },
     "execution_count": 420,
     "metadata": {},
     "output_type": "execute_result"
    }
   ],
   "source": [
    "qnn.carlomaria = True\n",
    "qnn.carlomaria"
   ]
  },
  {
   "cell_type": "code",
   "execution_count": 396,
   "metadata": {},
   "outputs": [
    {
     "name": "stdout",
     "output_type": "stream",
     "text": [
      "tensor(0.6624, grad_fn=<SumBackward0>)\n"
     ]
    }
   ],
   "source": [
    "x = encoding(states[0])\n",
    "y = quantum_nn(x)\n",
    "z = exp_val(y)\n",
    "loss = torch.sum(z)\n",
    "print(loss)\n",
    "\n",
    "encoding.zero_grad()\n",
    "quantum_nn.zero_grad()\n",
    "exp_val.zero_grad()\n",
    "loss.backward()"
   ]
  },
  {
   "cell_type": "code",
   "execution_count": 383,
   "metadata": {},
   "outputs": [
    {
     "data": {
      "text/plain": [
       "tensor([ 3.1947e-01,  5.7449e-02,  2.7997e-01,  8.4917e-02,  6.1021e-03,\n",
       "         4.1587e-02,  5.2563e-02,  6.6071e-02,  5.9163e-02,  8.3928e-02,\n",
       "         2.5436e-01, -8.7007e-02, -2.0925e-02,  6.8407e-02,  4.8834e-02,\n",
       "         3.0958e-02,  2.2532e-01, -2.5392e-02,  1.9269e-01,  7.1834e-02,\n",
       "         4.2042e-02,  3.3071e-02,  1.4223e-02,  6.6279e-02, -2.1119e-02,\n",
       "         2.8874e-02,  1.6517e-01, -1.6773e-01,  7.4497e-02, -3.3248e-02,\n",
       "         9.7416e-03,  0.0000e+00,  3.3807e-01, -9.4989e-02,  9.4061e-02,\n",
       "         0.0000e+00,  6.2884e-18,  0.0000e+00, -3.2526e-18, -2.6183e-17])"
      ]
     },
     "execution_count": 383,
     "metadata": {},
     "output_type": "execute_result"
    }
   ],
   "source": [
    "quantum_nn.weights.grad"
   ]
  },
  {
   "cell_type": "code",
   "execution_count": 380,
   "metadata": {},
   "outputs": [
    {
     "name": "stdout",
     "output_type": "stream",
     "text": [
      "tensor(0.6624, grad_fn=<SumBackward0>) tensor([0.4686, 0.1939], grad_fn=<MulBackward0>)\n"
     ]
    }
   ],
   "source": [
    "loss = 0.\n",
    "for j, state in enumerate(states[:1]):\n",
    "    # print(\"Start:\", j, state)\n",
    "    # single_Q_value = qnn2(Tensor(state))\n",
    "    # ZZ_1 = m1 * single_Q_value\n",
    "    # ZZ_1 = torch.sum(ZZ_1)#, dim = 1)#, keepdim = True)\n",
    "    # ZZ_2 = m2 * single_Q_value\n",
    "    # ZZ_2 = torch.sum(ZZ_2)#, dim = 1)#, keepdim = True)  \n",
    "    # single_Q_value = torch.cat((ZZ_1.unsqueeze(0), ZZ_2.unsqueeze(0)))\n",
    "    \n",
    "    single_Q_value = model(state)\n",
    "    loss = torch.sum(single_Q_value)\n",
    "    print(loss, single_Q_value)\n",
    "    \n",
    "    # Q_value = single_Q_value[actions[j]]\n",
    "    \n",
    "    # loss += target_Q_values[j]**2 - Q_value**2\n",
    "\n",
    "model.zero_grad()\n",
    "loss.backward()"
   ]
  },
  {
   "cell_type": "code",
   "execution_count": 382,
   "metadata": {},
   "outputs": [
    {
     "name": "stdout",
     "output_type": "stream",
     "text": [
      "tensor([ 3.1947e-01,  5.7449e-02,  2.7997e-01,  8.4917e-02,  6.1021e-03,\n",
      "         4.1587e-02,  5.2563e-02,  6.6071e-02,  5.9163e-02,  8.3928e-02,\n",
      "         2.5436e-01, -8.7007e-02, -2.0925e-02,  6.8407e-02,  4.8834e-02,\n",
      "         3.0958e-02,  2.2532e-01, -2.5392e-02,  1.9269e-01,  7.1834e-02,\n",
      "         4.2042e-02,  3.3071e-02,  1.4223e-02,  6.6279e-02, -2.1119e-02,\n",
      "         2.8874e-02,  1.6517e-01, -1.6773e-01,  7.4497e-02, -3.3248e-02,\n",
      "         9.7416e-03,  0.0000e+00,  3.3807e-01, -9.4989e-02,  9.4061e-02,\n",
      "         0.0000e+00,  6.2884e-18,  0.0000e+00, -3.2526e-18, -2.6183e-17])\n"
     ]
    }
   ],
   "source": [
    "print(model[1].weights.grad)"
   ]
  },
  {
   "cell_type": "code",
   "execution_count": null,
   "metadata": {},
   "outputs": [],
   "source": []
  },
  {
   "cell_type": "code",
   "execution_count": 283,
   "metadata": {},
   "outputs": [
    {
     "ename": "ValueError",
     "evalue": "operands could not be broadcast together with shapes (16,) (2,) ",
     "output_type": "error",
     "traceback": [
      "\u001b[0;31m---------------------------------------------------------------------------\u001b[0m",
      "\u001b[0;31mValueError\u001b[0m                                Traceback (most recent call last)",
      "\u001b[0;32m<ipython-input-283-10911df35eff>\u001b[0m in \u001b[0;36m<module>\u001b[0;34m\u001b[0m\n\u001b[0;32m----> 1\u001b[0;31m \u001b[0mZZ_1\u001b[0m \u001b[0;34m=\u001b[0m \u001b[0mm1\u001b[0m \u001b[0;34m*\u001b[0m \u001b[0mall_Q_values\u001b[0m\u001b[0;34m\u001b[0m\u001b[0;34m\u001b[0m\u001b[0m\n\u001b[0m\u001b[1;32m      2\u001b[0m \u001b[0mZZ_1\u001b[0m \u001b[0;34m=\u001b[0m \u001b[0mtorch\u001b[0m\u001b[0;34m.\u001b[0m\u001b[0msum\u001b[0m\u001b[0;34m(\u001b[0m\u001b[0mZZ_1\u001b[0m\u001b[0;34m,\u001b[0m \u001b[0mdim\u001b[0m \u001b[0;34m=\u001b[0m \u001b[0;36m1\u001b[0m\u001b[0;34m)\u001b[0m\u001b[0;31m#, keepdim = True)\u001b[0m\u001b[0;34m\u001b[0m\u001b[0;34m\u001b[0m\u001b[0m\n\u001b[1;32m      3\u001b[0m \u001b[0mZZ_2\u001b[0m \u001b[0;34m=\u001b[0m \u001b[0mm2\u001b[0m \u001b[0;34m*\u001b[0m \u001b[0mall_Q_values\u001b[0m\u001b[0;34m\u001b[0m\u001b[0;34m\u001b[0m\u001b[0m\n\u001b[1;32m      4\u001b[0m \u001b[0mZZ_2\u001b[0m \u001b[0;34m=\u001b[0m \u001b[0mtorch\u001b[0m\u001b[0;34m.\u001b[0m\u001b[0msum\u001b[0m\u001b[0;34m(\u001b[0m\u001b[0mZZ_2\u001b[0m\u001b[0;34m,\u001b[0m \u001b[0mdim\u001b[0m \u001b[0;34m=\u001b[0m \u001b[0;36m1\u001b[0m\u001b[0;34m)\u001b[0m\u001b[0;31m#, keepdim = True)\u001b[0m\u001b[0;34m\u001b[0m\u001b[0;34m\u001b[0m\u001b[0m\n\u001b[1;32m      5\u001b[0m \u001b[0mall_Q_values\u001b[0m \u001b[0;34m=\u001b[0m \u001b[0mtorch\u001b[0m\u001b[0;34m.\u001b[0m\u001b[0mcat\u001b[0m\u001b[0;34m(\u001b[0m\u001b[0;34m(\u001b[0m\u001b[0mZZ_1\u001b[0m\u001b[0;34m,\u001b[0m \u001b[0mZZ_2\u001b[0m\u001b[0;34m)\u001b[0m\u001b[0;34m)\u001b[0m\u001b[0;34m\u001b[0m\u001b[0;34m\u001b[0m\u001b[0m\n",
      "\u001b[0;31mValueError\u001b[0m: operands could not be broadcast together with shapes (16,) (2,) "
     ]
    }
   ],
   "source": [
    "ZZ_1 = m1 * all_Q_values\n",
    "ZZ_1 = torch.sum(ZZ_1, dim = 1)#, keepdim = True)\n",
    "ZZ_2 = m2 * all_Q_values\n",
    "ZZ_2 = torch.sum(ZZ_2, dim = 1)#, keepdim = True)  \n",
    "all_Q_values = torch.cat((ZZ_1, ZZ_2))"
   ]
  },
  {
   "cell_type": "code",
   "execution_count": 258,
   "metadata": {},
   "outputs": [
    {
     "data": {
      "text/plain": [
       "tensor([[-0.3095],\n",
       "        [ 0.4971]], grad_fn=<SumBackward1>)"
      ]
     },
     "execution_count": 258,
     "metadata": {},
     "output_type": "execute_result"
    }
   ],
   "source": [
    "Q_values = torch.sum(all_Q_values * mask, dim=1, keepdims=True)\n",
    "Q_values"
   ]
  },
  {
   "cell_type": "code",
   "execution_count": 257,
   "metadata": {},
   "outputs": [
    {
     "data": {
      "text/plain": [
       "tensor(1.1773)"
      ]
     },
     "execution_count": 257,
     "metadata": {},
     "output_type": "execute_result"
    }
   ],
   "source": [
    "target_Q_values= Tensor(target_Q_values)\n",
    "target_Q_values"
   ]
  },
  {
   "cell_type": "code",
   "execution_count": 256,
   "metadata": {},
   "outputs": [
    {
     "ename": "RuntimeError",
     "evalue": "grad can be implicitly created only for scalar outputs",
     "output_type": "error",
     "traceback": [
      "\u001b[0;31m---------------------------------------------------------------------------\u001b[0m",
      "\u001b[0;31mRuntimeError\u001b[0m                              Traceback (most recent call last)",
      "\u001b[0;32m<ipython-input-256-8bcba84d8ba1>\u001b[0m in \u001b[0;36m<module>\u001b[0;34m\u001b[0m\n\u001b[1;32m      3\u001b[0m     \u001b[0mloss\u001b[0m \u001b[0;34m+=\u001b[0m \u001b[0;34m(\u001b[0m\u001b[0mtarget_Q_values\u001b[0m\u001b[0;34m[\u001b[0m\u001b[0mj\u001b[0m\u001b[0;34m]\u001b[0m\u001b[0;34m**\u001b[0m\u001b[0;36m2\u001b[0m \u001b[0;34m-\u001b[0m \u001b[0mall_Q_values\u001b[0m\u001b[0;34m[\u001b[0m\u001b[0mj\u001b[0m\u001b[0;34m]\u001b[0m\u001b[0;34m**\u001b[0m\u001b[0;36m2\u001b[0m\u001b[0;34m)\u001b[0m\u001b[0;34m\u001b[0m\u001b[0;34m\u001b[0m\u001b[0m\n\u001b[1;32m      4\u001b[0m \u001b[0mqnn2\u001b[0m\u001b[0;34m.\u001b[0m\u001b[0mzero_grad\u001b[0m\u001b[0;34m(\u001b[0m\u001b[0;34m)\u001b[0m\u001b[0;34m\u001b[0m\u001b[0;34m\u001b[0m\u001b[0m\n\u001b[0;32m----> 5\u001b[0;31m \u001b[0mloss\u001b[0m\u001b[0;34m.\u001b[0m\u001b[0mbackward\u001b[0m\u001b[0;34m(\u001b[0m\u001b[0;34m)\u001b[0m\u001b[0;34m\u001b[0m\u001b[0;34m\u001b[0m\u001b[0m\n\u001b[0m\u001b[1;32m      6\u001b[0m \u001b[0;34m\u001b[0m\u001b[0m\n\u001b[1;32m      7\u001b[0m \u001b[0mprint\u001b[0m\u001b[0;34m(\u001b[0m\u001b[0mqnn2\u001b[0m\u001b[0;34m.\u001b[0m\u001b[0mweights\u001b[0m\u001b[0;34m.\u001b[0m\u001b[0mgrad\u001b[0m\u001b[0;34m)\u001b[0m\u001b[0;34m\u001b[0m\u001b[0;34m\u001b[0m\u001b[0m\n",
      "\u001b[0;32m/opt/anaconda3/envs/IBMHack/lib/python3.8/site-packages/torch/tensor.py\u001b[0m in \u001b[0;36mbackward\u001b[0;34m(self, gradient, retain_graph, create_graph, inputs)\u001b[0m\n\u001b[1;32m    243\u001b[0m                 \u001b[0mcreate_graph\u001b[0m\u001b[0;34m=\u001b[0m\u001b[0mcreate_graph\u001b[0m\u001b[0;34m,\u001b[0m\u001b[0;34m\u001b[0m\u001b[0;34m\u001b[0m\u001b[0m\n\u001b[1;32m    244\u001b[0m                 inputs=inputs)\n\u001b[0;32m--> 245\u001b[0;31m         \u001b[0mtorch\u001b[0m\u001b[0;34m.\u001b[0m\u001b[0mautograd\u001b[0m\u001b[0;34m.\u001b[0m\u001b[0mbackward\u001b[0m\u001b[0;34m(\u001b[0m\u001b[0mself\u001b[0m\u001b[0;34m,\u001b[0m \u001b[0mgradient\u001b[0m\u001b[0;34m,\u001b[0m \u001b[0mretain_graph\u001b[0m\u001b[0;34m,\u001b[0m \u001b[0mcreate_graph\u001b[0m\u001b[0;34m,\u001b[0m \u001b[0minputs\u001b[0m\u001b[0;34m=\u001b[0m\u001b[0minputs\u001b[0m\u001b[0;34m)\u001b[0m\u001b[0;34m\u001b[0m\u001b[0;34m\u001b[0m\u001b[0m\n\u001b[0m\u001b[1;32m    246\u001b[0m \u001b[0;34m\u001b[0m\u001b[0m\n\u001b[1;32m    247\u001b[0m     \u001b[0;32mdef\u001b[0m \u001b[0mregister_hook\u001b[0m\u001b[0;34m(\u001b[0m\u001b[0mself\u001b[0m\u001b[0;34m,\u001b[0m \u001b[0mhook\u001b[0m\u001b[0;34m)\u001b[0m\u001b[0;34m:\u001b[0m\u001b[0;34m\u001b[0m\u001b[0;34m\u001b[0m\u001b[0m\n",
      "\u001b[0;32m/opt/anaconda3/envs/IBMHack/lib/python3.8/site-packages/torch/autograd/__init__.py\u001b[0m in \u001b[0;36mbackward\u001b[0;34m(tensors, grad_tensors, retain_graph, create_graph, grad_variables, inputs)\u001b[0m\n\u001b[1;32m    139\u001b[0m \u001b[0;34m\u001b[0m\u001b[0m\n\u001b[1;32m    140\u001b[0m     \u001b[0mgrad_tensors_\u001b[0m \u001b[0;34m=\u001b[0m \u001b[0m_tensor_or_tensors_to_tuple\u001b[0m\u001b[0;34m(\u001b[0m\u001b[0mgrad_tensors\u001b[0m\u001b[0;34m,\u001b[0m \u001b[0mlen\u001b[0m\u001b[0;34m(\u001b[0m\u001b[0mtensors\u001b[0m\u001b[0;34m)\u001b[0m\u001b[0;34m)\u001b[0m\u001b[0;34m\u001b[0m\u001b[0;34m\u001b[0m\u001b[0m\n\u001b[0;32m--> 141\u001b[0;31m     \u001b[0mgrad_tensors_\u001b[0m \u001b[0;34m=\u001b[0m \u001b[0m_make_grads\u001b[0m\u001b[0;34m(\u001b[0m\u001b[0mtensors\u001b[0m\u001b[0;34m,\u001b[0m \u001b[0mgrad_tensors_\u001b[0m\u001b[0;34m)\u001b[0m\u001b[0;34m\u001b[0m\u001b[0;34m\u001b[0m\u001b[0m\n\u001b[0m\u001b[1;32m    142\u001b[0m     \u001b[0;32mif\u001b[0m \u001b[0mretain_graph\u001b[0m \u001b[0;32mis\u001b[0m \u001b[0;32mNone\u001b[0m\u001b[0;34m:\u001b[0m\u001b[0;34m\u001b[0m\u001b[0;34m\u001b[0m\u001b[0m\n\u001b[1;32m    143\u001b[0m         \u001b[0mretain_graph\u001b[0m \u001b[0;34m=\u001b[0m \u001b[0mcreate_graph\u001b[0m\u001b[0;34m\u001b[0m\u001b[0;34m\u001b[0m\u001b[0m\n",
      "\u001b[0;32m/opt/anaconda3/envs/IBMHack/lib/python3.8/site-packages/torch/autograd/__init__.py\u001b[0m in \u001b[0;36m_make_grads\u001b[0;34m(outputs, grads)\u001b[0m\n\u001b[1;32m     48\u001b[0m             \u001b[0;32mif\u001b[0m \u001b[0mout\u001b[0m\u001b[0;34m.\u001b[0m\u001b[0mrequires_grad\u001b[0m\u001b[0;34m:\u001b[0m\u001b[0;34m\u001b[0m\u001b[0;34m\u001b[0m\u001b[0m\n\u001b[1;32m     49\u001b[0m                 \u001b[0;32mif\u001b[0m \u001b[0mout\u001b[0m\u001b[0;34m.\u001b[0m\u001b[0mnumel\u001b[0m\u001b[0;34m(\u001b[0m\u001b[0;34m)\u001b[0m \u001b[0;34m!=\u001b[0m \u001b[0;36m1\u001b[0m\u001b[0;34m:\u001b[0m\u001b[0;34m\u001b[0m\u001b[0;34m\u001b[0m\u001b[0m\n\u001b[0;32m---> 50\u001b[0;31m                     \u001b[0;32mraise\u001b[0m \u001b[0mRuntimeError\u001b[0m\u001b[0;34m(\u001b[0m\u001b[0;34m\"grad can be implicitly created only for scalar outputs\"\u001b[0m\u001b[0;34m)\u001b[0m\u001b[0;34m\u001b[0m\u001b[0;34m\u001b[0m\u001b[0m\n\u001b[0m\u001b[1;32m     51\u001b[0m                 \u001b[0mnew_grads\u001b[0m\u001b[0;34m.\u001b[0m\u001b[0mappend\u001b[0m\u001b[0;34m(\u001b[0m\u001b[0mtorch\u001b[0m\u001b[0;34m.\u001b[0m\u001b[0mones_like\u001b[0m\u001b[0;34m(\u001b[0m\u001b[0mout\u001b[0m\u001b[0;34m,\u001b[0m \u001b[0mmemory_format\u001b[0m\u001b[0;34m=\u001b[0m\u001b[0mtorch\u001b[0m\u001b[0;34m.\u001b[0m\u001b[0mpreserve_format\u001b[0m\u001b[0;34m)\u001b[0m\u001b[0;34m)\u001b[0m\u001b[0;34m\u001b[0m\u001b[0;34m\u001b[0m\u001b[0m\n\u001b[1;32m     52\u001b[0m             \u001b[0;32melse\u001b[0m\u001b[0;34m:\u001b[0m\u001b[0;34m\u001b[0m\u001b[0;34m\u001b[0m\u001b[0m\n",
      "\u001b[0;31mRuntimeError\u001b[0m: grad can be implicitly created only for scalar outputs"
     ]
    }
   ],
   "source": [
    "loss = 0.\n",
    "for j in range(batch_size):\n",
    "    loss += (target_Q_values[j]**2 - all_Q_values[j]**2)\n",
    "qnn2.zero_grad()\n",
    "loss.backward()\n",
    "\n",
    "print(qnn2.weights.grad)"
   ]
  },
  {
   "cell_type": "code",
   "execution_count": 191,
   "metadata": {},
   "outputs": [],
   "source": [
    "def training_step_sequential(batch_size):\n",
    "    experiences = sample_experiences(batch_size)\n",
    "    states, actions, rewards, next_states, dones = experiences\n",
    "    with torch.no_grad():\n",
    "        next_Q_values = qnn2(Tensor(next_states)).numpy()\n",
    "    max_next_Q_values = np.max(next_Q_values, axis=1)\n",
    "    target_Q_values = (rewards +\n",
    "                       (1 - dones) * discount_rate * max_next_Q_values)\n",
    "    target_Q_values = target_Q_values.reshape(-1, 1)\n",
    "    mask = torch.nn.functional.one_hot(Tensor(actions).long(), n_outputs)\n",
    "    \n",
    "    all_Q_values = qnn2(Tensor(states))\n",
    "    Q_values = torch.sum(all_Q_values * mask, dim=1, keepdims=True)\n",
    "    target_Q_values= Tensor(target_Q_values)\n",
    "    loss = 0.\n",
    "    for sample in range(batch_size):\n",
    "        loss += (target_Q_values[i, 0]**2 - all_Q_values[i,0]**2) + (target_Q_values[i, 1]**2 - all_Q_values[i,1]**2)\n",
    "    \n",
    "    optimizer.zero_grad()\n",
    "    loss.backward()\n",
    "    # optimizer.step()"
   ]
  },
  {
   "cell_type": "code",
   "execution_count": 209,
   "metadata": {},
   "outputs": [
    {
     "name": "stdout",
     "output_type": "stream",
     "text": [
      "tensor(10) tensor(0.3770, grad_fn=<SelectBackward>) tensor(20) tensor(-0.2569, grad_fn=<SelectBackward>)\n",
      "tensor(499.7919, grad_fn=<AddBackward0>)\n",
      "tensor(20) tensor(0.3770, grad_fn=<SelectBackward>) tensor(30) tensor(-0.2569, grad_fn=<SelectBackward>)\n",
      "tensor(1799.5837, grad_fn=<AddBackward0>)\n",
      "tensor([ 5.1432e-01,  1.0965e-01,  1.1405e-01,  1.6593e-01,  1.1585e+00,\n",
      "         3.1577e-01,  4.0971e-01,  4.2263e-01, -7.6770e-01, -1.7013e-01,\n",
      "        -2.2341e-01, -1.7273e-01,  5.9298e-01, -5.7855e-01, -6.8661e-02,\n",
      "        -5.0864e-01, -3.1878e-01,  1.4778e-01,  2.5333e-01,  1.3710e-01,\n",
      "         4.6917e-02, -2.9549e-01,  2.1344e-01, -3.1856e-01, -9.0469e-02,\n",
      "        -4.2047e-01, -3.4055e-01, -3.4002e-01,  3.5762e-02,  3.5762e-02,\n",
      "         7.7160e-01,  5.1411e-09, -2.2207e-02, -2.2207e-02, -2.9706e-01,\n",
      "         1.5923e-08,  1.9010e-17, -1.2399e-16,  1.4806e-16, -2.9277e-17])\n"
     ]
    }
   ],
   "source": [
    "targ = torch.tensor([[10, 20], [20, 30]])\n",
    "\n",
    "# Check that these masks take the vector of probabilities to <Z_0*Z_1> and <Z_2*Z_3>\n",
    "m1 = torch.tensor([1.,-1.,-1.,1.,1.,-1.,-1.,1.,1.,-1.,-1.,1.,1.,-1.,-1.,1.], requires_grad = False)\n",
    "m2 = torch.tensor([-1.,-1.,-1.,-1.,1.,1.,1.,1.,-1.,-1.,-1.,-1.,1.,1.,1.,1.], requires_grad = False)\n",
    "\n",
    "x = Tensor([[0.5,0.5,0.5,0.5], [0.5,0.5,0.5,0.5]])\n",
    "x = qnn2(x)\n",
    "\n",
    "ZZ_1 = m1 * x\n",
    "ZZ_1 = torch.sum(ZZ_1, dim = 1, keepdim = True)\n",
    "ZZ_2 = m2 * x\n",
    "ZZ_2 = torch.sum(ZZ_2, dim = 1, keepdim = True)  \n",
    "\n",
    "out = torch.cat((ZZ_1, ZZ_2), 1)\n",
    "\n",
    "\n",
    "loss = 0.\n",
    "for i in range(2):\n",
    "    print(targ[i, 0], out[i, 0], targ[i, 1], out[i, 1])\n",
    "    loss += (targ[i, 0]**2 - out[i, 0] ** 2) + (targ[i, 1]**2 - out[i, 1]**2)\n",
    "    print(loss)\n",
    "\n",
    "optimizer.zero_grad()    \n",
    "loss.backward()\n",
    "\n",
    "print(qnn2.weights.grad)"
   ]
  },
  {
   "cell_type": "code",
   "execution_count": 210,
   "metadata": {},
   "outputs": [
    {
     "data": {
      "text/plain": [
       "499.79187339"
      ]
     },
     "execution_count": 210,
     "metadata": {},
     "output_type": "execute_result"
    }
   ],
   "source": [
    "(10**2 - 0.3770**2) + (20**2 - 0.2569**2)"
   ]
  },
  {
   "cell_type": "code",
   "execution_count": 203,
   "metadata": {},
   "outputs": [
    {
     "data": {
      "text/plain": [
       "tensor([[ 0.3770, -0.2569],\n",
       "        [ 0.3770, -0.2569]], grad_fn=<CatBackward>)"
      ]
     },
     "execution_count": 203,
     "metadata": {},
     "output_type": "execute_result"
    }
   ],
   "source": [
    "out"
   ]
  },
  {
   "cell_type": "code",
   "execution_count": 165,
   "metadata": {},
   "outputs": [
    {
     "name": "stdout",
     "output_type": "stream",
     "text": [
      "tensor([ 7.5303e-02,  7.5303e-02,  7.5303e-02,  7.5303e-02,  1.9032e-01,\n",
      "         1.9032e-01,  1.9032e-01,  1.9032e-01, -1.8636e-01, -1.8636e-01,\n",
      "        -1.8636e-01, -1.8636e-01, -9.3636e-02, -9.3636e-02, -9.3636e-02,\n",
      "        -9.3636e-02,  2.1272e-02,  2.1272e-02,  2.1272e-02,  2.1272e-02,\n",
      "        -9.4454e-02, -9.4454e-02, -9.4454e-02, -9.4454e-02,  6.0060e-02,\n",
      "         6.0060e-02,  6.0060e-02,  6.0060e-02,  1.7535e-01,  1.7535e-01,\n",
      "         1.7535e-01,  1.7535e-01, -8.7731e-02, -8.7731e-02, -8.7731e-02,\n",
      "        -8.7731e-02,  6.4243e-17, -1.8254e-17,  5.8340e-17, -1.1600e-17])\n"
     ]
    }
   ],
   "source": [
    "targ = torch.tensor([0, 0, 0, 0, 0, 0, 0, 0, 0, 0, 0, 0, 0, 0, 0, 1])\n",
    "x = torch.tensor([0.5,0.5,0.5,0.5])\n",
    "x = qnn2(x)\n",
    "loss = (targ - x).pow(2)\n",
    "loss = torch.sum(loss)\n",
    "qnn2.zero_grad()\n",
    "loss.backward()\n",
    "print(qnn2.weights.grad)"
   ]
  },
  {
   "cell_type": "code",
   "execution_count": 155,
   "metadata": {},
   "outputs": [
    {
     "name": "stdout",
     "output_type": "stream",
     "text": [
      "tensor([-2.6822e-02, -2.6822e-02, -2.6822e-02, -2.6822e-02, -6.1323e-02,\n",
      "        -6.1323e-02, -6.1323e-02, -6.1323e-02,  5.1884e-02,  5.1884e-02,\n",
      "         5.1884e-02,  5.1884e-02,  5.0465e-02,  5.0465e-02,  5.0465e-02,\n",
      "         5.0465e-02, -1.9898e-02, -1.9898e-02, -1.9898e-02, -1.9898e-02,\n",
      "         5.0465e-02,  5.0465e-02,  5.0465e-02,  5.0465e-02, -5.0037e-02,\n",
      "        -5.0037e-02, -5.0037e-02, -5.0037e-02, -6.1323e-02, -6.1323e-02,\n",
      "        -6.1323e-02, -6.1323e-02,  2.9088e-02,  2.9088e-02,  2.9088e-02,\n",
      "         2.9088e-02,  1.7347e-18,  1.7000e-16, -8.0144e-16, -1.0842e-16])\n"
     ]
    }
   ],
   "source": [
    "x = Tensor([0.5,0.5,0.5,0.5])\n",
    "x = qnn2(x)\n",
    "loss = x[15]\n",
    "loss.backward()\n",
    "print(qnn2.weights.grad)"
   ]
  },
  {
   "cell_type": "code",
   "execution_count": 61,
   "metadata": {},
   "outputs": [
    {
     "data": {
      "text/plain": [
       "tensor(-1.1921e-07, grad_fn=<SumBackward0>)"
      ]
     },
     "execution_count": 61,
     "metadata": {},
     "output_type": "execute_result"
    }
   ],
   "source": [
    "torch.sum(x * m2)"
   ]
  },
  {
   "cell_type": "code",
   "execution_count": 166,
   "metadata": {},
   "outputs": [],
   "source": [
    "x = Tensor([0.5,0.5,0.5,0.5])\n",
    "x = qnn2(x)\n",
    "\n",
    "loss = torch.sum(m1 * x)\n",
    "\n",
    "#ZZ_1 = torch.sum(ZZ_1, dim = 1, keepdim = True)\n",
    "#ZZ_2 = m2 * x\n",
    "#ZZ_2 = torch.sum(ZZ_2, dim = 1, keepdim = True)\n",
    "\n",
    "# loss = (1 - x).pow(2).sum()\n",
    "\n",
    "qnn2.zero_grad()\n",
    "loss.backward(retain_graph = True)"
   ]
  },
  {
   "cell_type": "code",
   "execution_count": 167,
   "metadata": {},
   "outputs": [
    {
     "name": "stdout",
     "output_type": "stream",
     "text": [
      "OrderedDict([('_weights', tensor([1., 1., 1., 1., 1., 1., 1., 1., 1., 1., 1., 1., 1., 1., 1., 1., 1., 1.,\n",
      "        1., 1., 1., 1., 1., 1., 1., 1., 1., 1., 1., 1., 1., 1., 1., 1., 1., 1.,\n",
      "        1., 1., 1., 1.]))])\n",
      "tensor([-1.0109e-01, -1.0109e-01,  1.2762e-01,  1.2762e-01, -1.1404e-01,\n",
      "        -1.1404e-01,  3.2022e-01,  3.2022e-01, -1.4803e-01, -1.4803e-01,\n",
      "        -1.5859e-01, -1.5859e-01, -3.6736e-02, -3.6736e-02,  2.4736e-01,\n",
      "         2.4736e-01, -4.1262e-02, -4.1262e-02, -8.4656e-02, -8.4656e-02,\n",
      "         1.9067e-01,  1.9067e-01,  9.6896e-02,  9.6896e-02, -3.6767e-01,\n",
      "        -3.6767e-01, -4.0691e-02, -4.0691e-02,  1.4534e-01,  1.4534e-01,\n",
      "         0.0000e+00,  0.0000e+00, -9.0252e-02, -9.0252e-02,  0.0000e+00,\n",
      "         0.0000e+00, -9.1940e-17, -1.0408e-17,  6.5919e-17,  8.6736e-19])\n"
     ]
    }
   ],
   "source": [
    "print(qnn2.state_dict())\n",
    "print(qnn2.weights.grad)"
   ]
  },
  {
   "cell_type": "code",
   "execution_count": 44,
   "metadata": {},
   "outputs": [
    {
     "data": {
      "text/plain": [
       "tensor(2.0749, grad_fn=<SumBackward0>)"
      ]
     },
     "execution_count": 44,
     "metadata": {},
     "output_type": "execute_result"
    }
   ],
   "source": [
    "x = Tensor([[1,2,3,4]])\n",
    "x = qnn2(x)\n",
    "\n",
    "ZZ_1 = m1 * x\n",
    "ZZ_1 = torch.sum(ZZ_1, dim = 1, keepdim = True)\n",
    "loss = (1-ZZ_1).pow(2).sum()\n",
    "loss"
   ]
  },
  {
   "cell_type": "code",
   "execution_count": null,
   "metadata": {},
   "outputs": [],
   "source": []
  },
  {
   "cell_type": "code",
   "execution_count": null,
   "metadata": {},
   "outputs": [],
   "source": [
    "experiences = sample_experiences(batch_size)\n",
    "states, actions, rewards, next_states, dones = experiences"
   ]
  },
  {
   "cell_type": "code",
   "execution_count": null,
   "metadata": {},
   "outputs": [],
   "source": [
    "for i in np.arange(0, 4,2):\n",
    "    print(i)"
   ]
  },
  {
   "cell_type": "code",
   "execution_count": null,
   "metadata": {},
   "outputs": [],
   "source": [
    "with torch.no_grad():\n",
    "    next_Q_values = model(Tensor(next_states)).numpy()\n",
    "max_next_Q_values = np.max(next_Q_values, axis=1)\n",
    "target_Q_values = (rewards +\n",
    "                   (1 - dones) * discount_rate * max_next_Q_values)\n",
    "target_Q_values = target_Q_values.reshape(-1, 1)\n",
    "mask = torch.nn.functional.one_hot(Tensor(actions).long(), n_outputs)\n",
    "all_Q_values = model(Tensor(states))\n",
    "Q_values = torch.sum(all_Q_values * mask, dim=1, keepdims=True)\n",
    "loss = loss_fn(Tensor(target_Q_values), Q_values)\n",
    "\n",
    "optimizer.zero_grad()\n",
    "loss.backward(retain_graph = True)\n",
    "\n",
    "print(Q_values, \"\\n\\n\", Tensor(target_Q_values), \"\\n\", loss)\n",
    "for i in np.arange(0,6,2):\n",
    "    print(\"Pino:\", model[i].weight.grad)"
   ]
  },
  {
   "cell_type": "code",
   "execution_count": null,
   "metadata": {},
   "outputs": [],
   "source": [
    "model.train()\n",
    "\n",
    "with torch.no_grad():\n",
    "    next_Q_values = model(Tensor(next_states)).numpy() # Remove Tensor\n",
    "    \n",
    "max_next_Q_values = np.max(next_Q_values, axis=1)\n",
    "target_Q_values = (rewards + (1 - dones) * discount_rate * max_next_Q_values)\n",
    "target_Q_values = target_Q_values.reshape(-1, 1) # Not needed if loss is calculated per sample\n",
    "\n",
    "loss = 0.0\n",
    "for j in range(batch_size):\n",
    "    q_value = model(Tensor(states[j])) # Remove Tensor\n",
    "    print(\"nanni = \", q_value, q_value.squeeze(0))\n",
    "    q_value = q_value.squeeze(0)[actions[j]] # q_value[0, actions[j]]\n",
    "    loss = loss + (Tensor(target_Q_values[j]) - q_value) ** 2 / batch_size\n",
    "    print(q_value, Tensor(target_Q_values[j]))\n",
    "print(loss)\n",
    "\n",
    "optimizer.zero_grad(set_to_none = True)\n",
    "loss.backward(retain_graph = True)\n",
    "\n",
    "for i in np.arange(0,6,2):\n",
    "    print(model[i].weight.grad)"
   ]
  },
  {
   "cell_type": "code",
   "execution_count": null,
   "metadata": {},
   "outputs": [],
   "source": []
  },
  {
   "cell_type": "code",
   "execution_count": null,
   "metadata": {},
   "outputs": [],
   "source": []
  },
  {
   "cell_type": "code",
   "execution_count": null,
   "metadata": {},
   "outputs": [],
   "source": []
  },
  {
   "cell_type": "code",
   "execution_count": null,
   "metadata": {},
   "outputs": [],
   "source": []
  },
  {
   "cell_type": "code",
   "execution_count": null,
   "metadata": {},
   "outputs": [],
   "source": []
  },
  {
   "cell_type": "code",
   "execution_count": null,
   "metadata": {},
   "outputs": [],
   "source": [
    "env.reset()\n",
    "state, *_ = env.step(0)\n",
    "\n",
    "encoding = encoding_layer()\n",
    "expval = exp_val_layer()\n",
    "\n",
    "#state = encoding(state)\n",
    "#probs = quantum_nn(state)\n",
    "#qvalues = expval(probs)\n",
    "\n",
    "model = torch.nn.Sequential(encoding, quantum_nn, expval)\n",
    "\n",
    "batch_size = 5\n",
    "discount_rate = 0.99\n",
    "optimizer = Adam(model.parameters(), lr = 1e-2)\n",
    "loss_fn = MSELoss()\n",
    "\n",
    "for i in range(10):\n",
    "    play_one_step(env, state, 1)"
   ]
  },
  {
   "cell_type": "code",
   "execution_count": null,
   "metadata": {},
   "outputs": [],
   "source": [
    "experiences = sample_experiences(batch_size)\n",
    "states, actions, rewards, next_states, dones = experiences\n",
    "with torch.no_grad():\n",
    "    next_Q_values = model(next_states).numpy()\n",
    "    \n",
    "max_next_Q_values = np.max(next_Q_values, axis=1)\n",
    "target_Q_values = (rewards + (1 - dones) * discount_rate * max_next_Q_values)\n",
    "# target_Q_values = target_Q_values.reshape(-1, 1) # Not needed if loss is calucaled per sample\n",
    "#loss = 0.0\n",
    "#for j in range(batch_size):\n",
    "#    q_value = model(states[j])\n",
    "#    q_value = q_value[0, actions[j]]\n",
    "#    loss += (torch.tensor(target_Q_values[j]) - q_value).pow(2) / batch_size\n",
    "q_values = model(states)\n",
    "mask = torch.nn.functional.one_hot(Tensor(actions).long(), n_outputs)\n",
    "Q_values = torch.sum(q_values * mask, dim=1, keepdims=True)\n",
    "loss = loss_fn(Q_values, torch.tensor(target_Q_values))\n",
    "model.zero_grad()\n",
    "loss.backward()\n",
    "#optimizer.step()"
   ]
  },
  {
   "cell_type": "code",
   "execution_count": null,
   "metadata": {
    "scrolled": true
   },
   "outputs": [],
   "source": [
    "for i in range(3):\n",
    "    print(model[i].weights.grad)"
   ]
  },
  {
   "cell_type": "code",
   "execution_count": null,
   "metadata": {},
   "outputs": [],
   "source": []
  },
  {
   "cell_type": "code",
   "execution_count": null,
   "metadata": {},
   "outputs": [],
   "source": [
    "from torchviz import make_dot"
   ]
  },
  {
   "cell_type": "code",
   "execution_count": null,
   "metadata": {},
   "outputs": [],
   "source": [
    "class exp_val_layer_v0(torch.nn.Module):\n",
    "    def __init__(self, action_space = 2):\n",
    "        super().__init__()\n",
    "        \n",
    "        # Define the weights for the layer\n",
    "        weights = torch.Tensor(action_space)\n",
    "        self.weights = torch.nn.Parameter(weights)\n",
    "        torch.nn.init.uniform_(self.weights, 1, 90) # <-- Initialization strategy\n",
    "        \n",
    "        # Check that these masks take the vector of probabilities to <Z_0*Z_1> and <Z_2*Z_3>\n",
    "        self.mask_ZZ_12 = torch.tensor([1.,-1.,-1.,1.,1.,-1.,-1.,1.,1.,-1.,-1.,1.,1.,-1.,-1.,1.])\n",
    "        self.mask_ZZ_34 = torch.tensor([-1.,-1.,-1.,-1.,1.,1.,1.,1.,-1.,-1.,-1.,-1.,1.,1.,1.,1.])\n",
    "        \n",
    "    def forward(self, x):\n",
    "        \"\"\"Forward step, as described above.\"\"\"\n",
    "        \n",
    "        # Probably uselsess\n",
    "        #if len(x.shape) == 1:\n",
    "        #    x = x.unsqueeze(0)\n",
    "        \n",
    "        x = x.float()\n",
    "            \n",
    "        expval_ZZ_12 = torch.tensordot(x, self.mask_ZZ_12, dims = 1).reshape(-1,1)\n",
    "        expval_ZZ_34 = torch.tensordot(x, self.mask_ZZ_34, dims = 1).reshape(-1,1)\n",
    "                        \n",
    "        out = torch.cat((expval_ZZ_12, expval_ZZ_34),1)\n",
    "                \n",
    "        return self.weights * ((out + 1) / 2)\n",
    "    \n",
    "class exp_val_layer_v1(torch.nn.Module):\n",
    "    def __init__(self, action_space = 2):\n",
    "        super().__init__()\n",
    "        \n",
    "        # Define the weights for the layer\n",
    "        weights = torch.Tensor(action_space)\n",
    "        self.weights = torch.nn.Parameter(weights)\n",
    "        torch.nn.init.uniform_(self.weights, 1, 90) # <-- Initialization strategy\n",
    "        \n",
    "        # Check that these masks take the vector of probabilities to <Z_0*Z_1> and <Z_2*Z_3>\n",
    "        self.mask_ZZ_12 = torch.tensor([1.,-1.,-1.,1.,1.,-1.,-1.,1.,1.,-1.,-1.,1.,1.,-1.,-1.,1.])\n",
    "        self.mask_ZZ_34 = torch.tensor([-1.,-1.,-1.,-1.,1.,1.,1.,1.,-1.,-1.,-1.,-1.,1.,1.,1.,1.])\n",
    "        \n",
    "    def forward(self, x):\n",
    "        \"\"\"Forward step, as described above.\"\"\"\n",
    "        \n",
    "        \n",
    "        expval_ZZ_12 = self.mask_ZZ_12 * x\n",
    "        expval_ZZ_12 = torch.sum(expval_ZZ_12, dim = 1, keepdim = True)\n",
    "        \n",
    "        expval_ZZ_34 = self.mask_ZZ_34 * x\n",
    "        expval_ZZ_34 = torch.sum(expval_ZZ_34, dim = 1, keepdim = True)\n",
    "                                \n",
    "        out = torch.cat((expval_ZZ_12, expval_ZZ_34), 1)\n",
    "                \n",
    "        return self.weights * ((out + 1) / 2)"
   ]
  },
  {
   "cell_type": "code",
   "execution_count": null,
   "metadata": {},
   "outputs": [],
   "source": [
    "v1 = exp_val_layer_v1()\n",
    "v0 = exp_val_layer_v0()\n",
    "encoding = encoding_layer()"
   ]
  },
  {
   "cell_type": "code",
   "execution_count": null,
   "metadata": {},
   "outputs": [],
   "source": []
  },
  {
   "cell_type": "code",
   "execution_count": null,
   "metadata": {},
   "outputs": [],
   "source": [
    "v1(probs)"
   ]
  },
  {
   "cell_type": "code",
   "execution_count": null,
   "metadata": {},
   "outputs": [],
   "source": [
    "m1 = torch.tensor([1.,-1.,-1.,1.,1.,-1.,-1.,1.,1.,-1.,-1.,1.,1.,-1.,-1.,1.])\n",
    "m2 = torch.tensor([-1.,-1.,-1.,-1.,1.,1.,1.,1.,-1.,-1.,-1.,-1.,1.,1.,1.,1.])\n",
    "\n",
    "x1 = m1 * probs\n",
    "x2 = m2 * probs\n",
    "print(x1)\n",
    "print(x2)"
   ]
  },
  {
   "cell_type": "code",
   "execution_count": null,
   "metadata": {},
   "outputs": [],
   "source": [
    "x3 = torch.sum(x1, dim = 1, keepdim = True)\n",
    "x3"
   ]
  },
  {
   "cell_type": "code",
   "execution_count": null,
   "metadata": {},
   "outputs": [],
   "source": [
    "x4 = torch.sum(x2, dim = 1, keepdim = True)\n",
    "x4"
   ]
  },
  {
   "cell_type": "code",
   "execution_count": null,
   "metadata": {},
   "outputs": [],
   "source": [
    "v1.state_dict()"
   ]
  },
  {
   "cell_type": "code",
   "execution_count": null,
   "metadata": {},
   "outputs": [],
   "source": [
    "12.8346 * ((1 + -0.1861)/2)"
   ]
  },
  {
   "cell_type": "code",
   "execution_count": null,
   "metadata": {},
   "outputs": [],
   "source": []
  }
 ],
 "metadata": {
  "kernelspec": {
   "display_name": "Python 3",
   "language": "python",
   "name": "python3"
  },
  "language_info": {
   "codemirror_mode": {
    "name": "ipython",
    "version": 3
   },
   "file_extension": ".py",
   "mimetype": "text/x-python",
   "name": "python",
   "nbconvert_exporter": "python",
   "pygments_lexer": "ipython3",
   "version": "3.8.8"
  }
 },
 "nbformat": 4,
 "nbformat_minor": 2
}
