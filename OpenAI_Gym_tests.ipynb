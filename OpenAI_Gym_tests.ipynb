{
 "cells": [
  {
   "cell_type": "markdown",
   "id": "c7ebdc6d",
   "metadata": {},
   "source": [
    "# OpenAI Gym\n",
    "\n",
    "A minimal working example for the OpenAI Gym.  \n",
    "> **NOTE**: It appears that there are problem with the rendering of the window when using a Jupyter Notebook. It freezes once the game has finished, and it has be closed manually. No python command seems to work up to now. Though, the very same code works nicely if executed as a Python script. "
   ]
  },
  {
   "cell_type": "code",
   "execution_count": null,
   "id": "84669540",
   "metadata": {},
   "outputs": [],
   "source": [
    "import gym\n",
    "env = gym.make('CartPole-v0')\n",
    "env.reset()\n",
    "for _ in range(1000):\n",
    "    env.render()\n",
    "    results = env.step(env.action_space.sample()) # take a random action\n",
    "    if results[2]: break\n",
    "env.close()"
   ]
  }
 ],
 "metadata": {
  "kernelspec": {
   "display_name": "Python 3",
   "language": "python",
   "name": "python3"
  },
  "language_info": {
   "codemirror_mode": {
    "name": "ipython",
    "version": 3
   },
   "file_extension": ".py",
   "mimetype": "text/x-python",
   "name": "python",
   "nbconvert_exporter": "python",
   "pygments_lexer": "ipython3",
   "version": "3.8.8"
  }
 },
 "nbformat": 4,
 "nbformat_minor": 5
}
